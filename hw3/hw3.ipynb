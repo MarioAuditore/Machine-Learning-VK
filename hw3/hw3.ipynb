{
 "cells": [
  {
   "cell_type": "markdown",
   "metadata": {},
   "source": [
    "### Машинное обучение\n",
    "## Домашнее задание №3 - Градиентный бустинг"
   ]
  },
  {
   "cell_type": "markdown",
   "metadata": {},
   "source": [
    "**Общая информация**\n",
    "\n",
    "**Срок сдачи:** 16 февраля 2023, 08:30   \n",
    "**Штраф за опоздание:** -2 балла за каждые сутки\n",
    "\n",
    "Используйте данный Ipython Notebook при оформлении домашнего задания."
   ]
  },
  {
   "cell_type": "markdown",
   "metadata": {},
   "source": [
    "##  Считаем производные для функций потерь (1 балл)"
   ]
  },
  {
   "cell_type": "markdown",
   "metadata": {},
   "source": [
    "Мы будем реализовать градиентный бустинг для 3 функций потерь:\n",
    "\n",
    "1) MSE  $L(a(x_i), y_i) = (y_i - a(x_i)) ^ 2$\n",
    "\n",
    "2) Экспоненциальная  $L(a(x_i), y_i) = exp( -a(x_i) y_i), y_i \\in \\{-1, 1\\}$\n",
    "\n",
    "3) Логистическая  $L(a(x_i), y_i) = \\log (1 + exp( -a(x_i) y_i)), y_i \\in \\{-1, 1\\}$\n",
    "\n",
    "где $a(x_i)$ предсказание бустинга на итом объекте. \n",
    "\n",
    "Для каждой функции потерь напишите таргет, на который будет настраиваться каждое дерево в бустинге. "
   ]
  },
  {
   "cell_type": "markdown",
   "metadata": {},
   "source": [
    "В бустингах будем обучаться на антиградиент $-dL(a(x_i), y_i)$\n",
    "1) $-dL(a(x_i), y_i) = 2(y_i - a(x_i))\\cdot da(x_i)$ \\\n",
    "2) $-dL(a(x_i), y_i) = exp(-a(x_i) y_i)y_i\\cdot da(x_i)$ \\\n",
    "3) $-dL(a(x_i), y_i) = \\dfrac{exp(-a(x_i) y_i)y_i\\cdot da(x_i)}{1 + exp( -a(x_i) y_i)}$"
   ]
  },
  {
   "cell_type": "markdown",
   "metadata": {},
   "source": [
    "##  Реализуем градиентный бустинг (3 балла)"
   ]
  },
  {
   "cell_type": "markdown",
   "metadata": {},
   "source": [
    "Реализуйте класс градиентного бустинга для классификации. Ваша реализация бустинга должна работать по точности не более чем на 5 процентов хуже чем GradientBoostingClassifier из sklearn. \n"
   ]
  },
  {
   "cell_type": "markdown",
   "metadata": {},
   "source": [
    "Детали реализации:\n",
    "\n",
    "-- должно поддерживаться 3 функции потерь\n",
    "\n",
    "-- сами базовые алгоритмы(деревья, линейные модели и тп) реализовать не надо, просто возьмите готовые из sklearn\n",
    "\n",
    "-- в качестве функции потерь для построения одного дерева используйте MSE\n",
    "\n",
    "-- шаг в бустинге можно не подбирать, можно брать константный\n",
    "\n",
    "-- можно брать разные модели в качестве инициализации бустинга\n",
    "\n",
    "-- должны поддерживаться следующие параметры:\n",
    "\n",
    "а) число итераций\n",
    "б) размер шага\n",
    "в) процент случайных фичей при построении одного дерева\n",
    "д) процент случайных объектов при построении одного дерева\n",
    "е) параметры базового алгоритма (передавайте через **kwargs)"
   ]
  },
  {
   "cell_type": "code",
   "execution_count": 97,
   "metadata": {},
   "outputs": [],
   "source": [
    "import numpy as np\n",
    "from scipy import stats\n",
    "from tqdm import tqdm\n",
    "import matplotlib.pyplot as plt\n",
    "\n",
    "from sklearn.datasets import load_wine\n",
    "from sklearn.ensemble import GradientBoostingClassifier\n",
    "from sklearn.metrics import accuracy_score\n",
    "from sklearn.model_selection import train_test_split\n",
    "from sklearn.tree import DecisionTreeRegressor"
   ]
  },
  {
   "cell_type": "markdown",
   "metadata": {},
   "source": [
    "Ремарка: я точно знаю основы анализа и дифференцирования, но эта шляпа ведет себя странно. Если брать антиградиент как надо, то алгоритм расходится. Если брать с минусом, то он начинает сходится, но по сути это становится градиентом. Мб я где-то чего-то не доглядел"
   ]
  },
  {
   "cell_type": "code",
   "execution_count": 98,
   "metadata": {},
   "outputs": [],
   "source": [
    "class MSE:\n",
    "    def loss(self, y_true, y_pred):\n",
    "        return np.sum((y_true - y_pred) ** 2)\n",
    "    \n",
    "    def grad(self, y_true, y_pred):\n",
    "        return 2 * (y_true - y_pred)\n",
    " \n",
    "\n",
    "class Exponential:\n",
    "    def loss(self, y_true, y_pred):\n",
    "        return np.sum(np.exp(-y_pred * y_true))\n",
    "    \n",
    "    def grad(self, y_true, y_pred):\n",
    "        return np.exp(-y_pred * y_true) * y_true\n",
    "    \n",
    "\n",
    "class Logarithmic:\n",
    "    def loss(self, y_true, y_pred):\n",
    "        return np.sum(np.log(1 + np.exp(-y_pred * y_true)))\n",
    "    \n",
    "    def grad(self, y_true, y_pred):\n",
    "        return (np.exp(-y_pred * y_true) * y_true) / (1 + np.exp(-y_pred * y_true))"
   ]
  },
  {
   "cell_type": "code",
   "execution_count": 99,
   "metadata": {},
   "outputs": [],
   "source": [
    "class MyGradientBoostingClassifier:\n",
    "\n",
    "    def __init__(self, loss='MSE', learning_rate=1e-1, n_estimators=100, colsample=0.7, subsample=0.7, random_state=None, *args, **kwargs):\n",
    "        \"\"\"\n",
    "        loss -- один из 3 лоссов:\n",
    "        learning_rate -- шаг бустинга\n",
    "        n_estimators -- число итераций\n",
    "        colsample -- процент рандомных признаков при обучнеии одного алгоритма\n",
    "        subsample -- процент рандомных объектов при обучнеии одного алгоритма\n",
    "        args, kwargs -- параметры  базовых моделей\n",
    "        \"\"\"\n",
    "        # Ваш код здесь\n",
    "        loss_dict = {\n",
    "            'mse' : MSE(),\n",
    "            'exp' : Exponential(),\n",
    "            'log' : Logarithmic()\n",
    "        }\n",
    "        \n",
    "        # будем хранить пары (модель, фичи)\n",
    "        self.models = []\n",
    "        self.features_ids = []\n",
    "        self.random_state = random_state\n",
    "        \n",
    "        self.criterion = loss_dict[loss]\n",
    "        self.lr = learning_rate\n",
    "        self.n_estimators = n_estimators\n",
    "        \n",
    "        self.colsample = colsample\n",
    "        self.subsample = subsample\n",
    "        \n",
    "        self.args = args\n",
    "        self.kwargs = kwargs\n",
    "        \n",
    "    \n",
    "    def fit(self, X, y, base_model=DecisionTreeRegressor, init_model=None):\n",
    "        \"\"\"\n",
    "        X -- объекты для обучения:\n",
    "        y -- таргеты для обучения\n",
    "        base_model -- класс базовых моделей, например sklearn.tree.DecisionTreeRegressor\n",
    "        init_model -- класс для первой модели, если None то берем константу (только для посл задания)\n",
    "        \"\"\"\n",
    "        # Ваш код здесь\n",
    "        if init_model == None:\n",
    "            # выбираем случайную константу\n",
    "            #const_pred = y[np.random.choice(y, 1)]\n",
    "            const_pred = stats.mode(y, keepdims=True)[0]\n",
    "            # готовим таргет для бустинга\n",
    "            y_boosting = (-1) * self.criterion.grad(y, const_pred)\n",
    "            # сохраняем\n",
    "            self.models.append(const_pred)\n",
    "            if self.random_state == None:\n",
    "                self.models += [base_model(*self.args, **self.kwargs) for i in range(1, self.n_estimators)]\n",
    "            else:\n",
    "                self.models += [base_model(random_state = self.random_state, *self.args, **self.kwargs) for i in range(1, self.n_estimators)]\n",
    "            self.features_ids.append(None)\n",
    "            \n",
    "        else:\n",
    "            # инициализируем выданную модель\n",
    "            if self.random_state == None:\n",
    "                start_model = init_model(*self.args, **self.kwargs)\n",
    "            else:\n",
    "                start_model = init_model(random_state = self.random_state, *self.args, **self.kwargs)\n",
    "            # отбираем фичи и объекты\n",
    "            features_id = np.random.choice(X.shape[1], int(self.colsample * X.shape[1]))\n",
    "            samples_id = np.random.choice(X.shape[0], int(self.subsample * X.shape[0]))\n",
    "            # берем подвыборку\n",
    "            X_train = X[samples_id][:, features_id]\n",
    "            y_train = y[samples_id]\n",
    "            # учим на подвыборке\n",
    "            start_model.fit(X_train, y_train)\n",
    "            # сохраняем\n",
    "            self.models.append(start_model)\n",
    "            if self.random_state == None:\n",
    "                self.models += [base_model(*self.args, **self.kwargs) for i in range(1, self.n_estimators)]\n",
    "            else:\n",
    "                self.models += [base_model(random_state = self.random_state, *self.args, **self.kwargs) for i in range(1, self.n_estimators)]\n",
    "            self.features_ids.append(features_id)\n",
    "            # подготовим таргет для следующих моделей\n",
    "            y_boosting = (-1) * self.criterion.grad(self.predict(X), y)\n",
    "            # таргеты, которые не затронуло оставим прежними\n",
    "            #y_boosting = y.copy()\n",
    "            #y_boosting[samples_id] = boosting_target\n",
    "            \n",
    "        for i, boosting_model in enumerate(self.models[1:]):\n",
    "            # инициализация новой модели\n",
    "            # boosting_model = base_model(*self.args, **self.kwargs)\n",
    "            # выбираем фичи и объекты\n",
    "            features_id = np.random.choice(X.shape[1], int(self.colsample * X.shape[1]))\n",
    "            samples_id = np.random.choice(X.shape[0], int(self.subsample * X.shape[0]))\n",
    "            # берем подвыборку\n",
    "            X_train = X[samples_id][:, features_id]\n",
    "            y_train = y_boosting[samples_id]\n",
    "            # учим\n",
    "            boosting_model.fit(X_train, y_train)\n",
    "            # сохраняем\n",
    "            #self.models.append((boosting_model, features_id))\n",
    "            self.features_ids.append(features_id)\n",
    "            #print(f\"Train {i} loss: {self.criterion.loss(self.predict(X), y)} | accuracy: {accuracy_score(y_pred=np.around(self.predict(X)).astype(int), y_true=y)}\")\n",
    "            \n",
    "            # готовим новые таргеты\n",
    "            y_boosting = (-1) * self.criterion.grad(self.predict(X), y)\n",
    "            # корректируем все таргеты\n",
    "            #y_boosting[samples_id] = boosting_target\n",
    "\n",
    "    \n",
    "    def predict(self, X):\n",
    "        # Ваш код здесь\n",
    "        if self.features_ids[0] is None:\n",
    "            # константный прогноз\n",
    "            pred = self.models[0]\n",
    "        else:\n",
    "            # достаем модель\n",
    "            model = self.models[0]\n",
    "            # достаем фичи, на которых она работает\n",
    "            features_id = self.features_ids[0]\n",
    "            # делаем предсказание\n",
    "            pred = model.predict(X[:, features_id])\n",
    "            \n",
    "        for i in range(1, len(self.features_ids)):\n",
    "            # достаем модель\n",
    "            model = self.models[i]\n",
    "            # достаем фичи, на которых она работает\n",
    "            features_id = self.features_ids[i]\n",
    "            # смещаем предсказание\n",
    "            pred = pred + self.lr * model.predict(X[:, features_id])\n",
    "        \n",
    "        return pred\n"
   ]
  },
  {
   "cell_type": "code",
   "execution_count": 4,
   "metadata": {},
   "outputs": [],
   "source": [
    "my_clf = MyGradientBoostingClassifier(loss='mse', \n",
    "                                      learning_rate=1e-1, \n",
    "                                      n_estimators=100, \n",
    "                                      colsample=0.7, \n",
    "                                      subsample=0.7,\n",
    "                                      random_state=123\n",
    "                                     )\n",
    "clf = GradientBoostingClassifier(random_state=123)"
   ]
  },
  {
   "cell_type": "code",
   "execution_count": 5,
   "metadata": {},
   "outputs": [],
   "source": [
    "wine = load_wine()\n",
    "X_train, X_test, y_train, y_test = train_test_split(wine.data, wine.target, test_size=0.1, stratify=wine.target)"
   ]
  },
  {
   "cell_type": "code",
   "execution_count": 6,
   "metadata": {},
   "outputs": [
    {
     "name": "stdout",
     "output_type": "stream",
     "text": [
      "0.9444444444444444\n",
      "1.0\n"
     ]
    }
   ],
   "source": [
    "my_clf.fit(X_train, y_train)\n",
    "clf.fit(X_train, y_train)\n",
    "print(accuracy_score(y_pred=clf.predict(X_test), y_true=y_test))\n",
    "print(accuracy_score(y_pred=np.round(my_clf.predict(X_test)).astype(int), y_true=y_test))"
   ]
  },
  {
   "cell_type": "markdown",
   "metadata": {},
   "source": [
    "## Подбираем параметры (2 балла)\n",
    "\n",
    "Давайте попробуем применить Ваш бустинг для предсказаний цены домов в Калифорнии. Чтобы можно было попробовтаь разные функции потерь, переведем по порогу таргет в 2 класса: дорогие и дешевые дома."
   ]
  },
  {
   "cell_type": "markdown",
   "metadata": {},
   "source": [
    "В задании нужно\n",
    "\n",
    "1) Построить график точности в зависимости от числа итераций на валидации.\n",
    "\n",
    "2) Подобрать оптимальные параметры Вашего бустинга на валидации. \n"
   ]
  },
  {
   "cell_type": "code",
   "execution_count": 100,
   "metadata": {},
   "outputs": [],
   "source": [
    "from sklearn.datasets import fetch_california_housing\n",
    "X, y = fetch_california_housing(return_X_y=True)"
   ]
  },
  {
   "cell_type": "code",
   "execution_count": 101,
   "metadata": {},
   "outputs": [
    {
     "name": "stdout",
     "output_type": "stream",
     "text": [
      "(20640, 8) (20640,)\n"
     ]
    }
   ],
   "source": [
    "# Превращаем регрессию в классификацию\n",
    "y = (y > 2.0).astype(int)\n",
    "print(X.shape, y.shape)"
   ]
  },
  {
   "cell_type": "code",
   "execution_count": 102,
   "metadata": {},
   "outputs": [],
   "source": [
    "X_train, X_test, y_train, y_test = train_test_split(X, y, test_size=0.3, stratify=y)\n",
    "\n",
    "n_estimators_range = [i for i in range(100, 300, 50)] \n",
    "loss_plot = {\n",
    "    'mse' : [],\n",
    "    'exp' : [],\n",
    "    'log' : []}"
   ]
  },
  {
   "cell_type": "code",
   "execution_count": 42,
   "metadata": {},
   "outputs": [
    {
     "name": "stderr",
     "output_type": "stream",
     "text": [
      "mse | accuracy: 0.864 n: 250: 100%|█████████████████████████████████| 4/4 [15:29<00:00, 232.44s/it]\n",
      "exp | accuracy: 0.578 n: 250: 100%|█████████████████████████████████| 4/4 [08:21<00:00, 125.50s/it]\n",
      "log | accuracy: 0.578 n: 250: 100%|█████████████████████████████████| 4/4 [07:50<00:00, 117.53s/it]\n"
     ]
    }
   ],
   "source": [
    "for loss_type in loss_plot.keys():\n",
    "    with tqdm(n_estimators_range) as t:\n",
    "        for n_estimators in t:\n",
    "            if loss_type == 'mse':\n",
    "                my_clf = MyGradientBoostingClassifier(loss=loss_type, \n",
    "                                                      learning_rate=1e-1, \n",
    "                                                      n_estimators=n_estimators, \n",
    "                                                      colsample=1.0, \n",
    "                                                      subsample=1.0,\n",
    "                                                      random_state=123)\n",
    "            else:\n",
    "                my_clf = MyGradientBoostingClassifier(loss=loss_type, \n",
    "                                                      learning_rate=1e-3, \n",
    "                                                      n_estimators=n_estimators, \n",
    "                                                      colsample=1.0, \n",
    "                                                      subsample=1.0,\n",
    "                                                      random_state=123)\n",
    "            my_clf.fit(X_train, y_train)\n",
    "            pred = np.around(my_clf.predict(X_test)).astype(int)\n",
    "            score = accuracy_score(y_pred=np.round(my_clf.predict(X_test)).astype(int), y_true=y_test)\n",
    "            t.set_description(f\"{loss_type} | accuracy: {np.round(score, 3)} n: {n_estimators}\")\n",
    "            loss_plot[loss_type].append(score)"
   ]
  },
  {
   "cell_type": "code",
   "execution_count": 43,
   "metadata": {},
   "outputs": [
    {
     "data": {
      "image/png": "[encoded data removed]",
      "text/plain": [
       "<Figure size 432x288 with 1 Axes>"
      ]
     },
     "metadata": {
      "needs_background": "light"
     },
     "output_type": "display_data"
    }
   ],
   "source": [
    "plt.xlabel('n_estimators')\n",
    "plt.ylabel('accuracy')\n",
    "\n",
    "for loss_type in loss_plot.keys():\n",
    "    plt.plot(n_estimators_range, loss_plot[loss_type], label=loss_type)\n",
    "    \n",
    "plt.legend()\n",
    "plt.show()"
   ]
  },
  {
   "cell_type": "code",
   "execution_count": 44,
   "metadata": {},
   "outputs": [
    {
     "data": {
      "image/png": "[encoded data removed]",
      "text/plain": [
       "<Figure size 432x288 with 1 Axes>"
      ]
     },
     "metadata": {
      "needs_background": "light"
     },
     "output_type": "display_data"
    }
   ],
   "source": [
    "plt.xlabel('n_estimators')\n",
    "plt.ylabel('accuracy')\n",
    "\n",
    "for loss_type in list(loss_plot.keys())[1:]:\n",
    "    plt.plot(n_estimators_range, loss_plot[loss_type], label=loss_type)\n",
    "    \n",
    "plt.legend()\n",
    "plt.show()"
   ]
  },
  {
   "cell_type": "markdown",
   "metadata": {},
   "source": [
    "Как пел Виктор Цой: \"Странное дело...\". Что имеем? MSE стабильней всех остальных, подберем параметры"
   ]
  },
  {
   "cell_type": "code",
   "execution_count": 47,
   "metadata": {},
   "outputs": [
    {
     "name": "stdout",
     "output_type": "stream",
     "text": [
      "accuracy: 0.835\n"
     ]
    }
   ],
   "source": [
    "my_clf = MyGradientBoostingClassifier(loss='mse', \n",
    "                                      learning_rate=1e-1, \n",
    "                                      n_estimators=150, \n",
    "                                      colsample=0.8, \n",
    "                                      subsample=0.8,\n",
    "                                      random_state=123)\n",
    "\n",
    "my_clf.fit(X_train, y_train)\n",
    "\n",
    "pred = np.around(my_clf.predict(X_test)).astype(int)\n",
    "score = accuracy_score(y_pred=np.round(my_clf.predict(X_test)).astype(int), y_true=y_test)\n",
    "print(f\"accuracy: {np.round(score, 3)}\")"
   ]
  },
  {
   "cell_type": "markdown",
   "metadata": {},
   "source": [
    "По итогу буду пробовать брать 150 итераций и отбирать по 80% случайных фичей и объектов выборки"
   ]
  },
  {
   "cell_type": "markdown",
   "metadata": {},
   "source": [
    "## BooBag BagBoo (1 балл)\n",
    "\n"
   ]
  },
  {
   "cell_type": "markdown",
   "metadata": {},
   "source": [
    "Попробуем объединить бустинг и бэгинг. Давайте\n",
    "\n",
    "1) в качестве базовой модели брать не дерево решений, а случайный лес (из sklearn)\n",
    "\n",
    "2) обучать N бустингов на бустрапированной выборке, а затем предикт усреднять"
   ]
  },
  {
   "cell_type": "markdown",
   "metadata": {},
   "source": [
    "Попробуйте обе этих стратегии на данных из прошлого задания. Получилось ли улучшить качество? Почему?"
   ]
  },
  {
   "cell_type": "markdown",
   "metadata": {},
   "source": [
    "New init"
   ]
  },
  {
   "cell_type": "code",
   "execution_count": 48,
   "metadata": {},
   "outputs": [
    {
     "name": "stdout",
     "output_type": "stream",
     "text": [
      "accuracy: 0.865\n"
     ]
    }
   ],
   "source": [
    "from sklearn.ensemble import RandomForestClassifier\n",
    "\n",
    "\n",
    "my_clf = MyGradientBoostingClassifier(loss='mse', \n",
    "                                      learning_rate=1e-1, \n",
    "                                      n_estimators=150, \n",
    "                                      colsample=0.8, \n",
    "                                      subsample=0.8,\n",
    "                                      random_state=123)\n",
    "\n",
    "my_clf.fit(X_train, y_train, init_model=RandomForestClassifier)\n",
    "\n",
    "pred = np.around(my_clf.predict(X_test)).astype(int)\n",
    "score = accuracy_score(y_pred=np.round(my_clf.predict(X_test)).astype(int), y_true=y_test)\n",
    "print(f\"accuracy: {np.round(score, 3)}\")"
   ]
  },
  {
   "cell_type": "markdown",
   "metadata": {},
   "source": [
    "Boosting & bagging"
   ]
  },
  {
   "cell_type": "code",
   "execution_count": 75,
   "metadata": {},
   "outputs": [
    {
     "name": "stderr",
     "output_type": "stream",
     "text": [
      "100%|██████████████████████████████████████████████████████████████| 10/10 [09:44<00:00, 58.41s/it]\n"
     ]
    }
   ],
   "source": [
    "n_boostings = 10\n",
    "\n",
    "pred = []\n",
    "bootstrap_size = X.shape[0]\n",
    "bagging_ensemble = []\n",
    "\n",
    "for i in tqdm(range(n_boostings)):\n",
    "    bootstrap_idx = np.random.choice(range(X_train.shape[0]), replace=True, size=bootstrap_size)\n",
    "    X_bootstrap, y_bootstrap = X_train[bootstrap_idx], y_train[bootstrap_idx]\n",
    "    \n",
    "    my_clf = MyGradientBoostingClassifier(loss='mse', \n",
    "                                      learning_rate=1e-1, \n",
    "                                      n_estimators=100, \n",
    "                                      colsample=0.8, \n",
    "                                      subsample=0.8,\n",
    "                                      random_state=123)\n",
    "\n",
    "    my_clf.fit(X_bootstrap, y_bootstrap)\n",
    "    bagging_ensemble.append(my_clf)\n",
    "    pred.append(my_clf.predict(X_test))"
   ]
  },
  {
   "cell_type": "code",
   "execution_count": 78,
   "metadata": {},
   "outputs": [
    {
     "name": "stdout",
     "output_type": "stream",
     "text": [
      "Accuracy| mean: 0.8876 mode: 0.88485 median: 0.88485\n"
     ]
    }
   ],
   "source": [
    "pred = np.array(pred)\n",
    "\n",
    "pred_mean = np.mean(pred, axis=0)\n",
    "pred_mode = stats.mode(np.round(pred).astype(int), keepdims=False)[0]\n",
    "pred_median = np.median(np.round(pred).astype(int), axis=0)\n",
    "\n",
    "score_mean = accuracy_score(y_pred=np.round(pred_mean).astype(int), y_true=y_test)\n",
    "score_mode = accuracy_score(y_pred=np.round(pred_mode).astype(int), y_true=y_test)\n",
    "score_median = accuracy_score(y_pred=np.round(pred_median).astype(int), y_true=y_test)\n",
    "\n",
    "print(f\"Accuracy| mean: {np.round(score_mean, 5)} mode: {np.round(score_mode, 5)} median: {np.round(score_median, 5)}\")"
   ]
  },
  {
   "cell_type": "markdown",
   "metadata": {},
   "source": [
    "Идею с бэгингом я сперва не особо воспринял, но потом решил сделать выборку размером с весь датасет. При этом еще вывел разные варианты аггрегации предиктов. Результаты получились интересные =)\\\n",
    "Инциализация случайным лесом - интересная тема. Получается на старте мы как бы пытаемся выбить хороший скор, а потом дообучаем бустингом, красивая стратегия.\\\n",
    "\n",
    "Overall, результаты получились повыше. У бэггинга за счет комбинации моделей (ошибка становится маловероятным событием, ибо ошибиться должны несколько моделей разом), у инициализации прирост за счет хорошего начального приближения случайным лесом"
   ]
  },
  {
   "cell_type": "markdown",
   "metadata": {
    "collapsed": true
   },
   "source": [
    "## Умная инициализация (1 балл)\n",
    "\n",
    "Попробуйте брать в качестве инициализации бустинга не константу, а какой-то алгоритм и уже от его предикта стартовать итерации бустинга. Попробуйте разные модели из sklearn: линейные модели, рандом форест, svm..\n",
    "\n",
    "Получилось ли улучшить качество? Почему?\n",
    "\n"
   ]
  },
  {
   "cell_type": "markdown",
   "metadata": {},
   "source": [
    "RandomForest"
   ]
  },
  {
   "cell_type": "code",
   "execution_count": 81,
   "metadata": {},
   "outputs": [
    {
     "name": "stdout",
     "output_type": "stream",
     "text": [
      "accuracy: 0.8645026\n"
     ]
    }
   ],
   "source": [
    "my_clf = MyGradientBoostingClassifier(loss='mse', \n",
    "                                      learning_rate=1e-1, \n",
    "                                      n_estimators=150, \n",
    "                                      colsample=0.8, \n",
    "                                      subsample=0.8,\n",
    "                                      random_state=123)\n",
    "\n",
    "my_clf.fit(X_train, y_train, init_model=RandomForestClassifier)\n",
    "\n",
    "pred = np.around(my_clf.predict(X_test)).astype(int)\n",
    "score = accuracy_score(y_pred=np.round(my_clf.predict(X_test)).astype(int), y_true=y_test)\n",
    "print(f\"accuracy: {np.round(score, 7)}\")"
   ]
  },
  {
   "cell_type": "markdown",
   "metadata": {},
   "source": [
    "DecisionTree"
   ]
  },
  {
   "cell_type": "code",
   "execution_count": 82,
   "metadata": {},
   "outputs": [
    {
     "name": "stdout",
     "output_type": "stream",
     "text": [
      "accuracy: 0.7703488\n"
     ]
    }
   ],
   "source": [
    "my_clf = MyGradientBoostingClassifier(loss='mse', \n",
    "                                      learning_rate=1e-1, \n",
    "                                      n_estimators=150, \n",
    "                                      colsample=0.8, \n",
    "                                      subsample=0.8,\n",
    "                                      random_state=123)\n",
    "\n",
    "my_clf.fit(X_train, y_train, init_model=DecisionTreeRegressor)\n",
    "\n",
    "pred = np.around(my_clf.predict(X_test)).astype(int)\n",
    "score = accuracy_score(y_pred=np.round(my_clf.predict(X_test)).astype(int), y_true=y_test)\n",
    "print(f\"accuracy: {np.round(score, 7)}\")"
   ]
  },
  {
   "cell_type": "markdown",
   "metadata": {},
   "source": [
    "LinearRegression"
   ]
  },
  {
   "cell_type": "code",
   "execution_count": 85,
   "metadata": {},
   "outputs": [
    {
     "name": "stdout",
     "output_type": "stream",
     "text": [
      "accuracy: 0.8661176\n"
     ]
    }
   ],
   "source": [
    "from sklearn.linear_model import LinearRegression\n",
    "\n",
    "\n",
    "my_clf = MyGradientBoostingClassifier(loss='mse', \n",
    "                                      learning_rate=1e-1, \n",
    "                                      n_estimators=150, \n",
    "                                      colsample=0.8, \n",
    "                                      subsample=0.8)\n",
    "\n",
    "my_clf.fit(X_train, y_train, init_model=LinearRegression)\n",
    "\n",
    "pred = np.around(my_clf.predict(X_test)).astype(int)\n",
    "score = accuracy_score(y_pred=np.round(my_clf.predict(X_test)).astype(int), y_true=y_test)\n",
    "print(f\"accuracy: {np.round(score, 7)}\")"
   ]
  },
  {
   "cell_type": "markdown",
   "metadata": {},
   "source": [
    "Ridge Regression"
   ]
  },
  {
   "cell_type": "code",
   "execution_count": 105,
   "metadata": {},
   "outputs": [
    {
     "name": "stdout",
     "output_type": "stream",
     "text": [
      "accuracy: 0.8465762\n"
     ]
    }
   ],
   "source": [
    "from sklearn.linear_model import Ridge\n",
    "\n",
    "\n",
    "my_clf = MyGradientBoostingClassifier(loss='mse', \n",
    "                                      learning_rate=1e-1, \n",
    "                                      n_estimators=150, \n",
    "                                      colsample=0.7, \n",
    "                                      subsample=0.7)\n",
    "\n",
    "my_clf.fit(X_train, y_train, init_model=Ridge)\n",
    "\n",
    "pred = np.around(my_clf.predict(X_test)).astype(int)\n",
    "score = accuracy_score(y_pred=np.round(my_clf.predict(X_test)).astype(int), y_true=y_test)\n",
    "print(f\"accuracy: {np.round(score, 7)}\")"
   ]
  },
  {
   "cell_type": "code",
   "execution_count": 106,
   "metadata": {},
   "outputs": [
    {
     "name": "stdout",
     "output_type": "stream",
     "text": [
      "accuracy: 0.8617571\n"
     ]
    }
   ],
   "source": [
    "from sklearn.linear_model import LogisticRegression\n",
    "\n",
    "\n",
    "my_clf = MyGradientBoostingClassifier(loss='mse', \n",
    "                                      learning_rate=1e-1, \n",
    "                                      n_estimators=150, \n",
    "                                      colsample=0.7, \n",
    "                                      subsample=0.7)\n",
    "\n",
    "my_clf.fit(X_train, y_train, init_model=LogisticRegression)\n",
    "\n",
    "pred = np.around(my_clf.predict(X_test)).astype(int)\n",
    "score = accuracy_score(y_pred=np.round(my_clf.predict(X_test)).astype(int), y_true=y_test)\n",
    "print(f\"accuracy: {np.round(score, 7)}\")"
   ]
  },
  {
   "cell_type": "code",
   "execution_count": 107,
   "metadata": {},
   "outputs": [
    {
     "name": "stdout",
     "output_type": "stream",
     "text": [
      "accuracy: 0.8439922\n"
     ]
    }
   ],
   "source": [
    "from sklearn.linear_model import ElasticNet\n",
    "\n",
    "\n",
    "my_clf = MyGradientBoostingClassifier(loss='mse', \n",
    "                                      learning_rate=1e-1, \n",
    "                                      n_estimators=150, \n",
    "                                      colsample=0.7, \n",
    "                                      subsample=0.7)\n",
    "\n",
    "my_clf.fit(X_train, y_train, init_model=ElasticNet)\n",
    "\n",
    "pred = np.around(my_clf.predict(X_test)).astype(int)\n",
    "score = accuracy_score(y_pred=np.round(my_clf.predict(X_test)).astype(int), y_true=y_test)\n",
    "print(f\"accuracy: {np.round(score, 7)}\")"
   ]
  },
  {
   "cell_type": "markdown",
   "metadata": {},
   "source": [
    "Хорошее качество у RandomForest и LinearRegression. RandomForest в принципе классный алгоритм, а вот DecisionTree наверное слабее ансамбля и поэтому уступает. Регрессии клево себя показали ибо в задаче два класса. По итогу, победила модель с инициализацией через LinearRegression"
   ]
  },
  {
   "cell_type": "markdown",
   "metadata": {
    "collapsed": true
   },
   "source": [
    "| Model | Accuracy |\n",
    "|---|---|\n",
    "| RandomForest | 0.8645026 |\n",
    "| DecisionTree | 0.7703488 |\n",
    "| LinearRegression | 0.8661176 |\n",
    "| RidgeRegression | 0.8465762 |\n",
    "| LogisticRegression | 0.8617571 |\n",
    "| ElasticNet | 0.8439922 |"
   ]
  },
  {
   "cell_type": "markdown",
   "metadata": {},
   "source": [
    "## Фидбек (бесценно)"
   ]
  },
  {
   "cell_type": "markdown",
   "metadata": {},
   "source": [
    "* Какие аспекты обучения  ансамблей Вам показались непонятными? Какое место стоит дополнительно объяснить?"
   ]
  },
  {
   "cell_type": "markdown",
   "metadata": {},
   "source": [
    "### Ваш ответ здесь"
   ]
  },
  {
   "cell_type": "markdown",
   "metadata": {},
   "source": [
    "Все было клево, но вот почему у меня пошли странности с антиградиентом - загадка. Хотел бы получить фидбек что я сделал не так. Там же наверное кроется причина почему у меня точность моделей на log и exp лоссах была постоянной на уровне 0.578 =)"
   ]
  },
  {
   "cell_type": "markdown",
   "metadata": {},
   "source": [
    "### ВАШ ОТЗЫВ ЗДЕСЬ\n",
    "\n"
   ]
  },
  {
   "cell_type": "code",
   "execution_count": null,
   "metadata": {
    "collapsed": true
   },
   "outputs": [],
   "source": []
  },
  {
   "cell_type": "code",
   "execution_count": null,
   "metadata": {
    "collapsed": true
   },
   "outputs": [],
   "source": []
  }
 ],
 "metadata": {
  "anaconda-cloud": {},
  "kernelspec": {
   "display_name": "Python 3",
   "language": "python",
   "name": "python3"
  },
  "language_info": {
   "codemirror_mode": {
    "name": "ipython",
    "version": 3
   },
   "file_extension": ".py",
   "mimetype": "text/x-python",
   "name": "python",
   "nbconvert_exporter": "python",
   "pygments_lexer": "ipython3",
   "version": "3.8.8"
  }
 },
 "nbformat": 4,
 "nbformat_minor": 2
}
