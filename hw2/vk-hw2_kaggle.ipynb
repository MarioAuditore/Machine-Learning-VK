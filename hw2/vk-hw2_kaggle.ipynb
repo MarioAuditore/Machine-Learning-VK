{
 "cells": [
  {
   "cell_type": "markdown",
   "id": "811bfbbe",
   "metadata": {
    "papermill": {
     "duration": 0.017119,
     "end_time": "2023-01-31T16:35:51.254278",
     "exception": false,
     "start_time": "2023-01-31T16:35:51.237159",
     "status": "completed"
    },
    "tags": []
   },
   "source": [
    "### Машинное Обучения\n",
    "\n",
    "## Домашнее задание №2 - Дерево решений"
   ]
  },
  {
   "cell_type": "markdown",
   "id": "86f04c08",
   "metadata": {
    "papermill": {
     "duration": 0.014623,
     "end_time": "2023-01-31T16:35:51.284248",
     "exception": false,
     "start_time": "2023-01-31T16:35:51.269625",
     "status": "completed"
    },
    "tags": []
   },
   "source": [
    "**Общая информация**\n",
    "\n",
    "**Срок сдачи:** 1 февраля 2023, 08:30   \n",
    "**Штраф за опоздание:** -2 балла за каждые 2 дня опоздания\n",
    "\n",
    "Решений залить в свой github репозиторий.\n",
    "\n",
    "Используйте данный Ipython Notebook при оформлении домашнего задания."
   ]
  },
  {
   "cell_type": "markdown",
   "id": "6f8a3ca4",
   "metadata": {
    "papermill": {
     "duration": 0.019891,
     "end_time": "2023-01-31T16:35:51.320584",
     "exception": false,
     "start_time": "2023-01-31T16:35:51.300693",
     "status": "completed"
    },
    "tags": []
   },
   "source": [
    "##  Реализуем дерево решений (3 балла)"
   ]
  },
  {
   "cell_type": "markdown",
   "id": "d3b50bf7",
   "metadata": {
    "papermill": {
     "duration": 0.017704,
     "end_time": "2023-01-31T16:35:51.353556",
     "exception": false,
     "start_time": "2023-01-31T16:35:51.335852",
     "status": "completed"
    },
    "tags": []
   },
   "source": [
    "Допишите недостающие части дерева решений. Ваша реализация дерева должна работать по точности не хуже DecisionTreeClassifier из sklearn.\n",
    "Внимание: если Вас не устраивает предложенная структура хранения дерева, Вы без потери баллов можете сделать свой класс MyDecisionTreeClassifier, в котором сами полностью воспроизведете алгоритм дерева решений. Обязательно в нем иметь только функции fit, predict . (Но название класса не менять)"
   ]
  },
  {
   "cell_type": "code",
   "execution_count": 1,
   "id": "2e4be5bc",
   "metadata": {
    "execution": {
     "iopub.execute_input": "2023-01-31T16:35:51.394140Z",
     "iopub.status.busy": "2023-01-31T16:35:51.392877Z",
     "iopub.status.idle": "2023-01-31T16:35:53.053768Z",
     "shell.execute_reply": "2023-01-31T16:35:53.052643Z"
    },
    "papermill": {
     "duration": 1.681935,
     "end_time": "2023-01-31T16:35:53.057115",
     "exception": false,
     "start_time": "2023-01-31T16:35:51.375180",
     "status": "completed"
    },
    "tags": []
   },
   "outputs": [],
   "source": [
    "import matplotlib.pyplot as plt\n",
    "import numpy as np\n",
    "import pandas as pd\n",
    "\n",
    "from tqdm import tqdm\n",
    "\n",
    "from sklearn.datasets import load_wine\n",
    "from sklearn.ensemble import RandomForestClassifier\n",
    "from sklearn.metrics import accuracy_score, roc_auc_score\n",
    "from sklearn.model_selection import KFold, train_test_split, GridSearchCV, RandomizedSearchCV\n",
    "from sklearn.tree import DecisionTreeClassifier"
   ]
  },
  {
   "cell_type": "code",
   "execution_count": 2,
   "id": "1cab58ce",
   "metadata": {
    "execution": {
     "iopub.execute_input": "2023-01-31T16:35:53.088423Z",
     "iopub.status.busy": "2023-01-31T16:35:53.087607Z",
     "iopub.status.idle": "2023-01-31T16:35:53.097760Z",
     "shell.execute_reply": "2023-01-31T16:35:53.096342Z"
    },
    "papermill": {
     "duration": 0.029561,
     "end_time": "2023-01-31T16:35:53.101010",
     "exception": false,
     "start_time": "2023-01-31T16:35:53.071449",
     "status": "completed"
    },
    "tags": []
   },
   "outputs": [],
   "source": [
    "def gini(y):\n",
    "    # считаем число классов\n",
    "    labels, counts = np.unique(y, return_counts=True)\n",
    "    # превращаем в доли (вероятности)\n",
    "    p = counts / len(y)\n",
    "    # возвращаем критерий Джини\n",
    "    if len(y) == 0:\n",
    "        print(f\"AYO {p} = {counts} / {len(y)}\")\n",
    "    return 1 - np.inner(p, p)\n",
    "\n",
    "def entropy(y):\n",
    "    # считаем число классов\n",
    "    labels, counts = np.unique(y, return_counts=True)\n",
    "    # превращаем в доли (вероятности)\n",
    "    p = counts / len(y)\n",
    "    # возвращаем энтропию\n",
    "    return -np.sum(p * np.log(p))\n",
    "\n",
    "def misclassification_error(y):\n",
    "    # считаем число классов\n",
    "    labels, counts = np.unique(y, return_counts=True)\n",
    "    # ищем долю самого популярного класса\n",
    "    p = max(counts) / len(y)\n",
    "    # возвращаем \n",
    "    return 1 - p"
   ]
  },
  {
   "cell_type": "code",
   "execution_count": 3,
   "id": "42b30a41",
   "metadata": {
    "execution": {
     "iopub.execute_input": "2023-01-31T16:35:53.133179Z",
     "iopub.status.busy": "2023-01-31T16:35:53.132438Z",
     "iopub.status.idle": "2023-01-31T16:35:53.174042Z",
     "shell.execute_reply": "2023-01-31T16:35:53.172641Z"
    },
    "papermill": {
     "duration": 0.061614,
     "end_time": "2023-01-31T16:35:53.177088",
     "exception": false,
     "start_time": "2023-01-31T16:35:53.115474",
     "status": "completed"
    },
    "tags": []
   },
   "outputs": [],
   "source": [
    "class MyDecisionTreeClassifier:\n",
    "    NON_LEAF_TYPE = 0\n",
    "    LEAF_TYPE = 1\n",
    "\n",
    "    def __init__(self, min_samples_split=2, max_depth=5, criterion='gini', threshold_optimised = False):\n",
    "        \"\"\"\n",
    "        criterion -- критерий расщепления. необходимо релизовать три:\n",
    "        Ошибка классификации, Индекс Джини, Энтропийный критерий\n",
    "        max_depth -- максимальная глубина дерева\n",
    "        min_samples_split -- минимальное число объектов в листе, чтобы сделать новый сплит\n",
    "        \"\"\"\n",
    "        self.min_samples_split = min_samples_split\n",
    "        self.max_depth = max_depth\n",
    "        self.num_class = -1\n",
    "        # Для последнего задания\n",
    "        self.feature_importances_ = None\n",
    "        loss_func = {\n",
    "            'gini': gini,\n",
    "            'entropy': entropy,\n",
    "            'misclassification_error': misclassification_error\n",
    "        }\n",
    "        self.criterion = loss_func[criterion]\n",
    "        self.optimised_threshold_flag = threshold_optimised\n",
    "        # Структура, которая описывает дерево\n",
    "        # Представляет словарь, где для  node_id (айдишник узла дерева) храним\n",
    "        # (тип_узла, айдишник признака сплита, порог сплита) если тип NON_LEAF_TYPE\n",
    "        # (тип_узла, предсказание класса, вероятность класса) если тип LEAF_TYPE\n",
    "        # Подразумевается, что у каждого node_id в дереве слева \n",
    "        # узел с айди 2 * node_id + 1, а справа 2 * node_id + 2\n",
    "        self.tree = dict()\n",
    "        self.feature_importance = dict()\n",
    "\n",
    "    def __div_samples(self, x, y, feature_id, threshold):\n",
    "        \"\"\"\n",
    "        Разделяет объекты на 2 множества\n",
    "        x -- матрица объектов\n",
    "        y -- вектор ответов\n",
    "        feature_id -- айдишник признака, по которому делаем сплит\n",
    "        threshold -- порог, по которому делаем сплит\n",
    "        \"\"\"\n",
    "    \n",
    "        left_mask = x[:, feature_id] > threshold\n",
    "        right_mask = ~left_mask\n",
    "        #print(threshold, np.sort(x[:, feature_id]), sep='\\n')\n",
    "        return x[left_mask], x[right_mask], y[left_mask], y[right_mask]\n",
    "        \n",
    "        \n",
    "    def __find_threshold(self, x, y):\n",
    "        \"\"\"\n",
    "        Находим оптимальный признак и порог для сплита\n",
    "        Здесь используемые разные impurity в зависимости от self.criterion\n",
    "        \"\"\"\n",
    "        if self.optimised_threshold_flag:\n",
    "            return self.optimised_find_threshold(x, y)\n",
    "        else:\n",
    "            best_feature_id = None\n",
    "            best_threshold = None\n",
    "            data_divided = None\n",
    "\n",
    "            max_info_gain = -1\n",
    "            parent_loss = 0\n",
    "\n",
    "            # Считаем глобальные признаки\n",
    "            parent_loss = self.criterion(y)\n",
    "\n",
    "            # Пройдемся по всем фичам\n",
    "            for feature_id in range(x.shape[1]):\n",
    "                if (x[:, feature_id] == x[:, feature_id][0]).all(axis=0):\n",
    "                    continue\n",
    "                else:\n",
    "                    thresholds = np.unique(np.sort(x[:, feature_id]))[:-1]\n",
    "                    divisions = [self.__div_samples(x, y, feature_id, threshold) for threshold in thresholds]\n",
    "\n",
    "                    left = np.array([len(division[2]) * self.criterion(division[2]) for division in divisions])\n",
    "                    right = np.array([len(division[3]) * self.criterion(division[3]) for division in divisions])\n",
    "\n",
    "                    info_gain = parent_loss * y.shape[0] - left - right\n",
    "\n",
    "                    idx = np.argmax(info_gain)\n",
    "\n",
    "                    if info_gain[idx] > max_info_gain:\n",
    "                        max_info_gain = info_gain[idx]\n",
    "                        best_feature_id = feature_id\n",
    "                        best_threshold = thresholds[idx]\n",
    "                        data_divided = divisions[idx]\n",
    "                    '''\n",
    "                    # старая версия\n",
    "                    prev_hreshold = None\n",
    "                    # Ищем среди значений\n",
    "                    for threshold in np.sort(x[:, feature_id]):\n",
    "                        # Избегаем повторений\n",
    "                        if threshold == prev_hreshold:\n",
    "                            continue\n",
    "                        else:\n",
    "                            prev_hreshold = threshold\n",
    "                        # Делим по текущему порогу\n",
    "                        x_left, x_right, y_left, y_right = self.__div_samples(x, y, feature_id, threshold)\n",
    "                        # проверка на адекватность деления\n",
    "                        if (y_left.shape[0] > 0) and (y_right.shape[0] > 0):\n",
    "                            # прирост информативности \n",
    "                            info_gain = parent_loss * y.shape[0] - y_left.shape[0] * self.criterion(y_left) -\\\n",
    "                                        y_right.shape[0] * self.criterion(y_right)\n",
    "                            # если он лучше прежнего, сохраняем\n",
    "                            if info_gain > max_info_gain:\n",
    "                                max_info_gain = info_gain\n",
    "                                best_feature_id = feature_id\n",
    "                                best_threshold = threshold\n",
    "                                data_divided = (x_left, x_right, y_left, y_right)\n",
    "                            '''\n",
    "\n",
    "            # Сохраняем информацию о фиче\n",
    "            if best_feature_id in self.feature_importance:\n",
    "                self.feature_importance[best_feature_id] += max_info_gain\n",
    "            else:\n",
    "                self.feature_importance[best_feature_id] = max_info_gain\n",
    "            # Вывели лучший признак и порог\n",
    "            return best_feature_id, best_threshold, data_divided\n",
    "        \n",
    "        \n",
    "    def optimised_find_threshold(self, x, y):\n",
    "        \"\"\"\n",
    "        Попытка оптимизировать без двойного цикла\n",
    "        \"\"\"\n",
    "        \n",
    "        best_feature_id = None\n",
    "        best_threshold = None\n",
    "        data_divided = None\n",
    "        \n",
    "        max_info_gain = -1\n",
    "        parent_loss = 0\n",
    "        \n",
    "        parent_loss = self.criterion(y)\n",
    "        \n",
    "        # Проверим наличие константных значений\n",
    "        drop_feature = (x == x[0, :]).all(axis=0)\n",
    "        #info_gain = parent_loss - (y_left.shape[0] * gini(y_left) + y_right.shape[0] * gini(y_right)) / y.shape[0]\n",
    "        # отсортируем все колонки\n",
    "        sort_idx = np.argsort(x, axis=0)\n",
    "        # сделаем матрицу из лейблов\n",
    "        y_matrix = np.repeat(y, x.shape[1], 0).reshape(x.shape)\n",
    "        # расставим значения в соответствии с сортировкой\n",
    "        x_sorted = np.take_along_axis(x, sort_idx, axis=0)\n",
    "        y_sorted = np.take_along_axis(y_matrix, sort_idx, axis=0)\n",
    "        \n",
    "        # идем так, чтобы деление соответствовало мин. требованиям\n",
    "        # Если тривиальный случай\n",
    "        if x.shape[0] == 2:\n",
    "            idx = 1\n",
    "            \n",
    "            right = y_sorted[:idx]\n",
    "            left = y_sorted[idx:]\n",
    "            \n",
    "            info_gain = parent_loss * y_sorted.shape[0] - np.apply_along_axis(self.criterion, 0, left) * left.shape[0] - np.apply_along_axis(self.criterion, 0, right) * right.shape[0]\n",
    "\n",
    "            # Занулим для константных признаков\n",
    "            info_gain[drop_feature] = -1\n",
    "\n",
    "            # какой признак при заданном разбиении лучший\n",
    "            feature_id = np.argmax(info_gain)\n",
    "            if info_gain[feature_id] > max_info_gain:\n",
    "                max_info_gain = info_gain[feature_id]\n",
    "                best_feature_id = feature_id\n",
    "                best_threshold = x_sorted[idx - 1][best_feature_id]\n",
    "        else:\n",
    "            for idx in range(self.min_samples_split - 1, x.shape[0] - self.min_samples_split + 1):\n",
    "                \n",
    "                right = y_sorted[:idx]\n",
    "                left = y_sorted[idx:]\n",
    "\n",
    "                info_gain = parent_loss * y_sorted.shape[0] - np.apply_along_axis(self.criterion, 0, left) * left.shape[0] - np.apply_along_axis(self.criterion, 0, right) * right.shape[0]\n",
    "\n",
    "                # Занулим для константных признаков\n",
    "                info_gain[drop_feature] = -1\n",
    "                \n",
    "                # какой признак при заданном разбиении лучший\n",
    "                feature_id = np.argmax(info_gain)\n",
    "                if info_gain[feature_id] > max_info_gain:\n",
    "                    max_info_gain = info_gain[feature_id]\n",
    "                    best_feature_id = feature_id\n",
    "                    best_threshold = x_sorted[idx - 1][best_feature_id]\n",
    "            \n",
    "        # Вывели лучший признак и порог\n",
    "        data_divided = self.__div_samples(x, y, best_feature_id, best_threshold)\n",
    "        \n",
    "        return best_feature_id, best_threshold, data_divided\n",
    "        \n",
    "    \n",
    "    def __fit_node(self, x, y, node_id, depth):\n",
    "        \"\"\"\n",
    "        Делаем новый узел в дереве\n",
    "        Решаем, терминальный он или нет\n",
    "        Если нет, то строим левый узел  с айди 2 * node_id + 1\n",
    "        И правый узел с  айди 2 * node_id + 2\n",
    "        \"\"\"\n",
    "        # Ваш код здесь\n",
    "        NON_LEAF_TYPE = 0\n",
    "        LEAF_TYPE = 1\n",
    "        \n",
    "        if (x.shape[0] == 0):\n",
    "            raise Exception(\"Empty data array provided to leaf\")\n",
    "        \n",
    "        if (x.shape[0] < self.min_samples_split) or (depth >= self.max_depth):\n",
    "            # узел терминальный, нужно выдать предсказание\n",
    "            # считаем число классов\n",
    "            labels, counts = np.unique(y, return_counts=True)\n",
    "            # ищем наиболее вероятный класс\n",
    "            predict_idx = np.argmax(counts)\n",
    "            # ищем вероятность\n",
    "            probability = counts[predict_idx] / len(y)\n",
    "            # фиксируем информацию\n",
    "            self.tree[node_id] = (LEAF_TYPE, labels[predict_idx], probability)\n",
    "            \n",
    "        else:\n",
    "            # Ищем оптимальный порог\n",
    "            feature_id, threshold, data = self.__find_threshold(x, y)\n",
    "            # Запоминаем деление данных\n",
    "            x_left, x_right, y_left, y_right = data\n",
    "            # Фиксируем текущий узел\n",
    "            self.tree[node_id] = (NON_LEAF_TYPE, feature_id, threshold)\n",
    "            # Идем сплитить дальше\n",
    "            self.__fit_node(x_left, y_left, 2 * node_id + 1, depth + 1)\n",
    "            self.__fit_node(x_right, y_right, 2 * node_id + 2, depth + 1)\n",
    "    \n",
    "    def fit(self, x, y):\n",
    "        \"\"\"\n",
    "        Рекурсивно строим дерево решений\n",
    "        Начинаем с корня node_id 0\n",
    "        \"\"\"\n",
    "        self.num_class = np.unique(y).size\n",
    "        self.__fit_node(x, y, 0, 0) \n",
    "\n",
    "    def __predict_class(self, x, node_id):\n",
    "        \"\"\"\n",
    "        Рекурсивно обходим дерево по всем узлам,\n",
    "        пока не дойдем до терминального\n",
    "        \"\"\"\n",
    "        node = self.tree[node_id]\n",
    "        if node[0] == self.__class__.NON_LEAF_TYPE:\n",
    "            _, feature_id, threshold = node\n",
    "            if x[feature_id] > threshold:\n",
    "                return self.__predict_class(x, 2 * node_id + 1)\n",
    "            else:\n",
    "                return self.__predict_class(x, 2 * node_id + 2)\n",
    "        else:\n",
    "            return node[1]\n",
    "        \n",
    "    def predict(self, X):\n",
    "        \"\"\"\n",
    "        Вызывает predict для всех объектов из матрицы X\n",
    "        \"\"\"\n",
    "        return np.array([self.__predict_class(x, 0) for x in X])\n",
    "    \n",
    "    def fit_predict(self, x_train, y_train, predicted_x):\n",
    "        self.fit(x_train, y_train)\n",
    "        return self.predict(predicted_x)\n",
    "    \n",
    "    def get_feature_importance(self):\n",
    "        \"\"\"\n",
    "        Возвращает важность признаков\n",
    "        \"\"\"\n",
    "        # Ваш код здесь\n",
    "        return self.feature_importance"
   ]
  },
  {
   "cell_type": "code",
   "execution_count": 4,
   "id": "fb2d8144",
   "metadata": {
    "execution": {
     "iopub.execute_input": "2023-01-31T16:35:53.210511Z",
     "iopub.status.busy": "2023-01-31T16:35:53.209925Z",
     "iopub.status.idle": "2023-01-31T16:35:53.216665Z",
     "shell.execute_reply": "2023-01-31T16:35:53.215244Z"
    },
    "papermill": {
     "duration": 0.027312,
     "end_time": "2023-01-31T16:35:53.219273",
     "exception": false,
     "start_time": "2023-01-31T16:35:53.191961",
     "status": "completed"
    },
    "tags": []
   },
   "outputs": [],
   "source": [
    "my_clf = MyDecisionTreeClassifier(min_samples_split=2)\n",
    "clf = DecisionTreeClassifier(min_samples_split=2)"
   ]
  },
  {
   "cell_type": "code",
   "execution_count": 5,
   "id": "1b8b3e25",
   "metadata": {
    "execution": {
     "iopub.execute_input": "2023-01-31T16:35:53.252985Z",
     "iopub.status.busy": "2023-01-31T16:35:53.252471Z",
     "iopub.status.idle": "2023-01-31T16:35:53.270312Z",
     "shell.execute_reply": "2023-01-31T16:35:53.268779Z"
    },
    "papermill": {
     "duration": 0.038618,
     "end_time": "2023-01-31T16:35:53.273566",
     "exception": false,
     "start_time": "2023-01-31T16:35:53.234948",
     "status": "completed"
    },
    "tags": []
   },
   "outputs": [],
   "source": [
    "wine = load_wine()\n",
    "X_train, X_test, y_train, y_test = train_test_split(wine.data, wine.target, test_size=0.1, stratify=wine.target)"
   ]
  },
  {
   "cell_type": "code",
   "execution_count": 6,
   "id": "5b8b1879",
   "metadata": {
    "execution": {
     "iopub.execute_input": "2023-01-31T16:35:53.307088Z",
     "iopub.status.busy": "2023-01-31T16:35:53.306544Z",
     "iopub.status.idle": "2023-01-31T16:35:53.791218Z",
     "shell.execute_reply": "2023-01-31T16:35:53.789552Z"
    },
    "papermill": {
     "duration": 0.506321,
     "end_time": "2023-01-31T16:35:53.795079",
     "exception": false,
     "start_time": "2023-01-31T16:35:53.288758",
     "status": "completed"
    },
    "tags": []
   },
   "outputs": [],
   "source": [
    "clf.fit(X_train, y_train)\n",
    "my_clf.fit(X_train, y_train)"
   ]
  },
  {
   "cell_type": "code",
   "execution_count": 7,
   "id": "9fcd145b",
   "metadata": {
    "execution": {
     "iopub.execute_input": "2023-01-31T16:35:53.826918Z",
     "iopub.status.busy": "2023-01-31T16:35:53.826393Z",
     "iopub.status.idle": "2023-01-31T16:35:53.840569Z",
     "shell.execute_reply": "2023-01-31T16:35:53.838994Z"
    },
    "papermill": {
     "duration": 0.033288,
     "end_time": "2023-01-31T16:35:53.843468",
     "exception": false,
     "start_time": "2023-01-31T16:35:53.810180",
     "status": "completed"
    },
    "scrolled": true,
    "tags": []
   },
   "outputs": [
    {
     "data": {
      "text/plain": [
       "(0.8888888888888888, 0.7777777777777778)"
      ]
     },
     "execution_count": 7,
     "metadata": {},
     "output_type": "execute_result"
    }
   ],
   "source": [
    "accuracy_score(y_pred=clf.predict(X_test), y_true=y_test), accuracy_score(y_pred=my_clf.predict(X_test), y_true=y_test)"
   ]
  },
  {
   "cell_type": "markdown",
   "id": "2ac535ee",
   "metadata": {
    "papermill": {
     "duration": 0.014085,
     "end_time": "2023-01-31T16:35:53.874598",
     "exception": false,
     "start_time": "2023-01-31T16:35:53.860513",
     "status": "completed"
    },
    "tags": []
   },
   "source": [
    "Совет: Проверьте, что ваша реализация корректно работает с признаками в которых встречаются повторы. \n",
    "И подумайте, какие еще граничные случаи могут быть.\n",
    "Например, проверьте, что на таком примере ваша модель корректно работает:"
   ]
  },
  {
   "cell_type": "code",
   "execution_count": 8,
   "id": "4845fd7c",
   "metadata": {
    "execution": {
     "iopub.execute_input": "2023-01-31T16:35:53.906585Z",
     "iopub.status.busy": "2023-01-31T16:35:53.906078Z",
     "iopub.status.idle": "2023-01-31T16:35:53.924707Z",
     "shell.execute_reply": "2023-01-31T16:35:53.923318Z"
    },
    "papermill": {
     "duration": 0.039213,
     "end_time": "2023-01-31T16:35:53.928396",
     "exception": false,
     "start_time": "2023-01-31T16:35:53.889183",
     "status": "completed"
    },
    "tags": []
   },
   "outputs": [
    {
     "name": "stdout",
     "output_type": "stream",
     "text": [
      "DEPTH: 1 \n",
      "\t\tTree: {0: (0, 1, 2), 1: (1, 1, 0.7142857142857143), 2: (1, 0, 1.0)} [0 0 0 1 1 1 1 1 1 1]\n",
      "DEPTH: 2 \n",
      "\t\tTree: {0: (0, 1, 2), 1: (0, 1, 6), 3: (1, 1, 1.0), 4: (1, 0, 0.5), 2: (0, 1, 0), 5: (1, 0, 1.0), 6: (1, 0, 1.0)} [0 0 0 0 0 0 0 1 1 1]\n",
      "DEPTH: 3 \n",
      "\t\tTree: {0: (0, 1, 2), 1: (0, 1, 6), 3: (0, 1, 7), 7: (1, 1, 1.0), 8: (1, 1, 1.0), 4: (0, 1, 4), 9: (1, 0, 1.0), 10: (1, 1, 1.0), 2: (0, 1, 0), 5: (0, 1, 1), 11: (1, 0, 1.0), 12: (1, 0, 1.0), 6: (1, 0, 1.0)} [0 0 0 0 0 1 1 1 1 1]\n",
      "DEPTH: 4 \n",
      "\t\tTree: {0: (0, 1, 2), 1: (0, 1, 6), 3: (0, 1, 7), 7: (0, 1, 8), 15: (1, 1, 1.0), 16: (1, 1, 1.0), 8: (1, 1, 1.0), 4: (0, 1, 4), 9: (0, 1, 5), 19: (1, 0, 1.0), 20: (1, 0, 1.0), 10: (0, 1, 3), 21: (1, 1, 1.0), 22: (1, 1, 1.0), 2: (0, 1, 0), 5: (0, 1, 1), 11: (1, 0, 1.0), 12: (1, 0, 1.0), 6: (1, 0, 1.0)} [0 0 0 0 0 1 1 1 1 1]\n"
     ]
    }
   ],
   "source": [
    "X = np.array([[1] * 10, [0, 1, 2, 5, 6, 3, 4, 7, 8, 9]]).T\n",
    "y = np.array([0, 0, 0, 0, 0, 1, 1, 1, 1, 1])\n",
    "for depth in range(1, 5):\n",
    "    my_clf = MyDecisionTreeClassifier(max_depth=depth)\n",
    "    my_clf.fit(X, y)\n",
    "    print(\"DEPTH:\", depth, \"\\n\\t\\tTree:\", my_clf.tree, my_clf.predict(X))"
   ]
  },
  {
   "cell_type": "markdown",
   "id": "e2861d7f",
   "metadata": {
    "papermill": {
     "duration": 0.01454,
     "end_time": "2023-01-31T16:35:53.959852",
     "exception": false,
     "start_time": "2023-01-31T16:35:53.945312",
     "status": "completed"
    },
    "tags": []
   },
   "source": [
    "### Придумайте интересные примеры для отладки дерева решений (доп. задание)\n",
    "Это необязательный пункт. За него можно получить 1 доп балл. \n",
    "Можете придумать примеры для отладки дерева, похожие на пример выше. \n",
    "\n",
    "Они должны быть не сложные, но в то же время информативные, чтобы можно было понять, что реализация содержит ошибки.\n",
    "Вместе с примером нужно указать ожидаемый выход модели. "
   ]
  },
  {
   "cell_type": "code",
   "execution_count": 9,
   "id": "bf8cac29",
   "metadata": {
    "execution": {
     "iopub.execute_input": "2023-01-31T16:35:53.996691Z",
     "iopub.status.busy": "2023-01-31T16:35:53.996172Z",
     "iopub.status.idle": "2023-01-31T16:35:54.002556Z",
     "shell.execute_reply": "2023-01-31T16:35:54.000898Z"
    },
    "papermill": {
     "duration": 0.027923,
     "end_time": "2023-01-31T16:35:54.005272",
     "exception": false,
     "start_time": "2023-01-31T16:35:53.977349",
     "status": "completed"
    },
    "tags": []
   },
   "outputs": [],
   "source": [
    "# Примеры"
   ]
  },
  {
   "cell_type": "markdown",
   "id": "0cb7625b",
   "metadata": {
    "papermill": {
     "duration": 0.015178,
     "end_time": "2023-01-31T16:35:54.036625",
     "exception": false,
     "start_time": "2023-01-31T16:35:54.021447",
     "status": "completed"
    },
    "tags": []
   },
   "source": [
    "## Ускоряем дерево решений (2 балла)\n",
    "Добиться скорости работы на fit не медленнее чем в 10 раз sklearn на данных wine. \n",
    "Для этого используем numpy."
   ]
  },
  {
   "cell_type": "code",
   "execution_count": 10,
   "id": "98874667",
   "metadata": {
    "execution": {
     "iopub.execute_input": "2023-01-31T16:35:54.068728Z",
     "iopub.status.busy": "2023-01-31T16:35:54.068215Z",
     "iopub.status.idle": "2023-01-31T16:35:54.084164Z",
     "shell.execute_reply": "2023-01-31T16:35:54.082496Z"
    },
    "papermill": {
     "duration": 0.035763,
     "end_time": "2023-01-31T16:35:54.087255",
     "exception": false,
     "start_time": "2023-01-31T16:35:54.051492",
     "status": "completed"
    },
    "scrolled": true,
    "tags": []
   },
   "outputs": [
    {
     "name": "stdout",
     "output_type": "stream",
     "text": [
      "CPU times: user 2.38 ms, sys: 774 µs, total: 3.15 ms\n",
      "Wall time: 2.61 ms\n"
     ]
    },
    {
     "data": {
      "text/plain": [
       "DecisionTreeClassifier()"
      ]
     },
     "execution_count": 10,
     "metadata": {},
     "output_type": "execute_result"
    }
   ],
   "source": [
    "%time clf.fit(X_train, y_train)"
   ]
  },
  {
   "cell_type": "code",
   "execution_count": 11,
   "id": "934e0f5e",
   "metadata": {
    "execution": {
     "iopub.execute_input": "2023-01-31T16:35:54.120310Z",
     "iopub.status.busy": "2023-01-31T16:35:54.119827Z",
     "iopub.status.idle": "2023-01-31T16:35:54.525849Z",
     "shell.execute_reply": "2023-01-31T16:35:54.523792Z"
    },
    "papermill": {
     "duration": 0.428428,
     "end_time": "2023-01-31T16:35:54.531083",
     "exception": false,
     "start_time": "2023-01-31T16:35:54.102655",
     "status": "completed"
    },
    "tags": []
   },
   "outputs": [
    {
     "name": "stdout",
     "output_type": "stream",
     "text": [
      "CPU times: user 397 ms, sys: 0 ns, total: 397 ms\n",
      "Wall time: 397 ms\n"
     ]
    }
   ],
   "source": [
    "%time my_clf.fit(X_train, y_train)"
   ]
  },
  {
   "cell_type": "markdown",
   "id": "569ec52b",
   "metadata": {
    "papermill": {
     "duration": 0.015398,
     "end_time": "2023-01-31T16:35:54.562687",
     "exception": false,
     "start_time": "2023-01-31T16:35:54.547289",
     "status": "completed"
    },
    "tags": []
   },
   "source": [
    "# От циклов к векторам\n",
    "Ясно, что циклы замедляют весь процесс и я решил опробовать идею:\n",
    "Для поиска порога мы сделаем следующее:\n",
    "1. Мысленно разобьем батч данных на колонны и каждую такую колонуу независимо отсортируем через argsort\n",
    "2. Массив лейблов через `np.repeat` преобразуем в матрицу, где каждая колонка - это копия вектора лейблов\n",
    "3. Полученные из п.1 индексы применим к массиву данных и массиву(матрице) лейблов, на выходе будет массив данных, у которого каждая колонка независимо отсортирована и массив лейблов, который соответствует каждой ячейке отсортированного массива данных\n",
    "\n",
    "Как будет выглядеть деление данных при такой обработке? - Так как массивы являются сконкатенированными отсортированными колонками, подбор порога теперь - это хождение по индексам рядов. Ведь действительно, в самом верхнем ряду находятся минимальные значения данных для каждого признака, а значит при `idx=0` мы имеем самые минимальные пороги, которые по сути делят данные на верхния ряд + оставшаяся матрица.\n",
    "\n",
    "Остается пройтись по рядам полученной матрицы лейблов, деля ее на \"верх\" и \"низ\" и считая метрику на каждом шаге. Сам подсчет метрики выдаст нам вектор из информационных приростов по каждому признаку при заданном разбиении, остается лишь выбрать ячейку с максимальным приростом, ее индекс это и есть `feature_id`. Соответствующий можно найти как `x[idx][feature_id]`\n",
    "\n",
    "## На словах ты Лев Толстой, а на деле?\n",
    "\n",
    "А на деле я так (((наоптимизировал))), что мой метод `optimised_find_threshold` прироста не дал...\n",
    "По этому поводу я модифицировал оригинальный метод :3\n",
    "Почему так вышло? - загадка\n",
    "Код:\n",
    "```python\n",
    "def optimised_find_threshold(self, x, y):\n",
    "        \"\"\"\n",
    "        Попытка оптимизировать без двойного цикла\n",
    "        \"\"\"\n",
    "        \n",
    "        best_feature_id = None\n",
    "        best_threshold = None\n",
    "        data_divided = None\n",
    "        \n",
    "        max_info_gain = -1\n",
    "        parent_loss = 0\n",
    "        \n",
    "        parent_loss = self.criterion(y)\n",
    "        \n",
    "        # Проверим наличие константных значений\n",
    "        drop_feature = (x == x[0, :]).all(axis=0)\n",
    "        #info_gain = parent_loss - (y_left.shape[0] * gini(y_left) + y_right.shape[0] * gini(y_right)) / y.shape[0]\n",
    "        # отсортируем все колонки\n",
    "        sort_idx = np.argsort(x, axis=0)\n",
    "        # сделаем матрицу из лейблов\n",
    "        y_matrix = np.repeat(y, x.shape[1], 0).reshape(x.shape)\n",
    "        # расставим значения в соответствии с сортировкой\n",
    "        x_sorted = np.take_along_axis(x, sort_idx, axis=0)\n",
    "        y_sorted = np.take_along_axis(y_matrix, sort_idx, axis=0)\n",
    "        \n",
    "        # идем так, чтобы деление соответствовало мин. требованиям\n",
    "        # Если тривиальный случай\n",
    "        if x.shape[0] == 2:\n",
    "            idx = 1\n",
    "            \n",
    "            right = y_sorted[:idx]\n",
    "            left = y_sorted[idx:]\n",
    "            \n",
    "            info_gain = parent_loss * y_sorted.shape[0] - \n",
    "            np.apply_along_axis(self.criterion, 0, left) * left.shape[0] - \n",
    "            np.apply_along_axis(self.criterion, 0, right) * right.shape[0]\n",
    "\n",
    "            # Занулим для константных признаков\n",
    "            info_gain[drop_feature] = -1\n",
    "\n",
    "            # какой признак при заданном разбиении лучший\n",
    "            feature_id = np.argmax(info_gain)\n",
    "            if info_gain[feature_id] > max_info_gain:\n",
    "                max_info_gain = info_gain[feature_id]\n",
    "                best_feature_id = feature_id\n",
    "                best_threshold = x_sorted[idx - 1][best_feature_id]\n",
    "        else:\n",
    "            for idx in range(self.min_samples_split - 1, x.shape[0] - self.min_samples_split + 1):\n",
    "                \n",
    "                right = y_sorted[:idx]\n",
    "                left = y_sorted[idx:]\n",
    "\n",
    "                info_gain = parent_loss * y_sorted.shape[0] - \n",
    "                np.apply_along_axis(self.criterion, 0, left) * left.shape[0] - \n",
    "                np.apply_along_axis(self.criterion, 0, right) * right.shape[0]\n",
    "\n",
    "                # Занулим для константных признаков\n",
    "                info_gain[drop_feature] = -1\n",
    "                \n",
    "                # какой признак при заданном разбиении лучший\n",
    "                feature_id = np.argmax(info_gain)\n",
    "                if info_gain[feature_id] > max_info_gain:\n",
    "                    max_info_gain = info_gain[feature_id]\n",
    "                    best_feature_id = feature_id\n",
    "                    best_threshold = x_sorted[idx - 1][best_feature_id]\n",
    "            \n",
    "        # Вывели лучший признак и порог\n",
    "        data_divided = self.__div_samples(x, y, best_feature_id, best_threshold)\n",
    "        \n",
    "        return best_feature_id, best_threshold, data_divided        \n",
    "```"
   ]
  },
  {
   "cell_type": "code",
   "execution_count": 12,
   "id": "30e606d7",
   "metadata": {
    "execution": {
     "iopub.execute_input": "2023-01-31T16:35:54.595727Z",
     "iopub.status.busy": "2023-01-31T16:35:54.595245Z",
     "iopub.status.idle": "2023-01-31T16:35:54.601669Z",
     "shell.execute_reply": "2023-01-31T16:35:54.600130Z"
    },
    "papermill": {
     "duration": 0.026953,
     "end_time": "2023-01-31T16:35:54.604599",
     "exception": false,
     "start_time": "2023-01-31T16:35:54.577646",
     "status": "completed"
    },
    "tags": []
   },
   "outputs": [],
   "source": [
    "my_clf = MyDecisionTreeClassifier(min_samples_split=2, threshold_optimised=True)"
   ]
  },
  {
   "cell_type": "code",
   "execution_count": 13,
   "id": "d0d1e8db",
   "metadata": {
    "execution": {
     "iopub.execute_input": "2023-01-31T16:35:54.639074Z",
     "iopub.status.busy": "2023-01-31T16:35:54.637873Z",
     "iopub.status.idle": "2023-01-31T16:35:55.312163Z",
     "shell.execute_reply": "2023-01-31T16:35:55.310751Z"
    },
    "papermill": {
     "duration": 0.694234,
     "end_time": "2023-01-31T16:35:55.314915",
     "exception": false,
     "start_time": "2023-01-31T16:35:54.620681",
     "status": "completed"
    },
    "tags": []
   },
   "outputs": [
    {
     "name": "stdout",
     "output_type": "stream",
     "text": [
      "CPU times: user 664 ms, sys: 1.74 ms, total: 666 ms\n",
      "Wall time: 666 ms\n"
     ]
    }
   ],
   "source": [
    "%time my_clf.fit(X_train, y_train)"
   ]
  },
  {
   "cell_type": "markdown",
   "id": "4f3d248a",
   "metadata": {
    "papermill": {
     "duration": 0.014599,
     "end_time": "2023-01-31T16:35:55.344692",
     "exception": false,
     "start_time": "2023-01-31T16:35:55.330093",
     "status": "completed"
    },
    "tags": []
   },
   "source": [
    "## Боевое применение (3 балла)\n",
    "\n",
    "На практике Вы познакомились с датасетом Speed Dating Data. В нем каждая пара в быстрых свиданиях характеризуется определенным набором признаков. Задача -- предсказать, произойдет ли матч пары (колонка match). \n",
    "\n",
    "Данные и описания колонок во вложениях.\n",
    "\n",
    "Пример работы с датасетом можете найти в практике пункт 2\n",
    "https://github.com/VVVikulin/ml1.sphere/blob/master/2019-09/lecture_06/pract-trees.ipynb\n",
    "\n",
    "Либо воспользоваться функцией:"
   ]
  },
  {
   "cell_type": "code",
   "execution_count": 14,
   "id": "e74fc0a6",
   "metadata": {
    "execution": {
     "iopub.execute_input": "2023-01-31T16:35:55.377794Z",
     "iopub.status.busy": "2023-01-31T16:35:55.377321Z",
     "iopub.status.idle": "2023-01-31T16:35:55.395254Z",
     "shell.execute_reply": "2023-01-31T16:35:55.393932Z"
    },
    "papermill": {
     "duration": 0.037729,
     "end_time": "2023-01-31T16:35:55.397891",
     "exception": false,
     "start_time": "2023-01-31T16:35:55.360162",
     "status": "completed"
    },
    "tags": []
   },
   "outputs": [],
   "source": [
    "def preprocess_spd_data(df):\n",
    "    df = df.iloc[:, :97]\n",
    "    \n",
    "    to_drop = [\n",
    "        'id', 'idg', 'condtn', 'round', 'position', 'positin1', 'order', 'partner', \n",
    "        'age_o', 'race_o', 'pf_o_att', 'pf_o_sin', 'pf_o_int', 'pf_o_fun', 'pf_o_amb', 'pf_o_sha',\n",
    "        'dec_o', 'attr_o', 'sinc_o', 'intel_o', 'fun_o', 'amb_o', 'shar_o', 'like_o', 'prob_o','met_o',\n",
    "        'field', 'undergra', 'from', 'zipcode', 'income', 'career', 'sports', 'tvsports', 'exercise', \n",
    "        'dining', 'museums', 'art', 'hiking', 'gaming', 'clubbing', 'reading', 'tv', 'theater', 'movies', \n",
    "        'concerts', 'music', 'shopping', 'yoga', 'expnum',\n",
    "        'mn_sat', 'tuition'\n",
    "    ]\n",
    "\n",
    "    df = df.drop(to_drop, axis=1)\n",
    "    df = df.dropna(subset=['age', 'imprelig', 'imprace', 'date'])\n",
    "\n",
    "    df.loc[:, 'field_cd'] = df.loc[:, 'field_cd'].fillna(19)\n",
    "    df.loc[:, 'career_c'] = df.loc[:, 'career_c'].fillna(18)\n",
    "    \n",
    "    # attr1 processing\n",
    "    df.loc[:, 'temp_totalsum'] = df.loc[:, ['attr1_1', 'sinc1_1', 'intel1_1', 'fun1_1', \n",
    "                                            'amb1_1', 'shar1_1']].sum(axis=1)\n",
    "    df.loc[:, ['attr1_1', 'sinc1_1', 'intel1_1', 'fun1_1', 'amb1_1', 'shar1_1']] =\\\n",
    "    (df.loc[:, ['attr1_1', 'sinc1_1', 'intel1_1', 'fun1_1', 'amb1_1', 'shar1_1']].T / \n",
    "     df.loc[:, 'temp_totalsum'].T).T * 100\n",
    "    \n",
    "    # attr2 processing\n",
    "    df.loc[:, 'temp_totalsum'] = df.loc[:, ['attr2_1', 'sinc2_1', 'intel2_1', 'fun2_1', \n",
    "                                            'amb2_1', 'shar2_1']].sum(axis=1)\n",
    "    df.loc[:, ['attr2_1', 'sinc2_1', 'intel2_1', 'fun2_1', 'amb2_1', 'shar2_1']] =\\\n",
    "    (df.loc[:, ['attr2_1', 'sinc2_1', 'intel2_1', 'fun2_1', 'amb2_1', 'shar2_1']].T / \n",
    "     df.loc[:, 'temp_totalsum'].T).T * 100\n",
    "    df = df.drop(['temp_totalsum'], axis=1)\n",
    "    \n",
    "    for i in [4, 5]:\n",
    "        feat = ['attr{}_1'.format(i), 'sinc{}_1'.format(i), \n",
    "                'intel{}_1'.format(i), 'fun{}_1'.format(i), \n",
    "                'amb{}_1'.format(i), 'shar{}_1'.format(i)]\n",
    "\n",
    "        if i != 4:\n",
    "            feat.remove('shar{}_1'.format(i))\n",
    "    \n",
    "        df = df.drop(feat, axis=1)\n",
    "    \n",
    "    df = df.drop(['wave'], axis=1)\n",
    "    df = df.dropna()\n",
    "    return df"
   ]
  },
  {
   "cell_type": "markdown",
   "id": "261b1d8b",
   "metadata": {
    "papermill": {
     "duration": 0.014826,
     "end_time": "2023-01-31T16:35:55.428269",
     "exception": false,
     "start_time": "2023-01-31T16:35:55.413443",
     "status": "completed"
    },
    "tags": []
   },
   "source": [
    "Скачайте датасет, обработайте данные, как показано на семинаре или своим собственным способом. Обучите дерево классифкации. В качестве таргета возьмите колонку 'match'. Постарайтесь хорошо обработать признаки, чтобы выбить максимальную точность. Если точность будет близка к случайному гаданию, задание не будет защитано. В качестве метрики можно взять roc-auc. \n"
   ]
  },
  {
   "cell_type": "code",
   "execution_count": 15,
   "id": "fad34351",
   "metadata": {
    "execution": {
     "iopub.execute_input": "2023-01-31T16:35:55.461267Z",
     "iopub.status.busy": "2023-01-31T16:35:55.460667Z",
     "iopub.status.idle": "2023-01-31T16:35:55.885345Z",
     "shell.execute_reply": "2023-01-31T16:35:55.884107Z"
    },
    "papermill": {
     "duration": 0.444496,
     "end_time": "2023-01-31T16:35:55.888273",
     "exception": false,
     "start_time": "2023-01-31T16:35:55.443777",
     "status": "completed"
    },
    "tags": []
   },
   "outputs": [
    {
     "data": {
      "text/html": [
       "<div>\n",
       "<style scoped>\n",
       "    .dataframe tbody tr th:only-of-type {\n",
       "        vertical-align: middle;\n",
       "    }\n",
       "\n",
       "    .dataframe tbody tr th {\n",
       "        vertical-align: top;\n",
       "    }\n",
       "\n",
       "    .dataframe thead th {\n",
       "        text-align: right;\n",
       "    }\n",
       "</style>\n",
       "<table border=\"1\" class=\"dataframe\">\n",
       "  <thead>\n",
       "    <tr style=\"text-align: right;\">\n",
       "      <th></th>\n",
       "      <th>iid</th>\n",
       "      <th>gender</th>\n",
       "      <th>pid</th>\n",
       "      <th>match</th>\n",
       "      <th>int_corr</th>\n",
       "      <th>samerace</th>\n",
       "      <th>age</th>\n",
       "      <th>field_cd</th>\n",
       "      <th>race</th>\n",
       "      <th>imprace</th>\n",
       "      <th>...</th>\n",
       "      <th>sinc2_1</th>\n",
       "      <th>intel2_1</th>\n",
       "      <th>fun2_1</th>\n",
       "      <th>amb2_1</th>\n",
       "      <th>shar2_1</th>\n",
       "      <th>attr3_1</th>\n",
       "      <th>sinc3_1</th>\n",
       "      <th>fun3_1</th>\n",
       "      <th>intel3_1</th>\n",
       "      <th>amb3_1</th>\n",
       "    </tr>\n",
       "  </thead>\n",
       "  <tbody>\n",
       "    <tr>\n",
       "      <th>0</th>\n",
       "      <td>1</td>\n",
       "      <td>0</td>\n",
       "      <td>11.0</td>\n",
       "      <td>0</td>\n",
       "      <td>0.14</td>\n",
       "      <td>0</td>\n",
       "      <td>21.0</td>\n",
       "      <td>1.0</td>\n",
       "      <td>4.0</td>\n",
       "      <td>2.0</td>\n",
       "      <td>...</td>\n",
       "      <td>20.0</td>\n",
       "      <td>15.0</td>\n",
       "      <td>20.0</td>\n",
       "      <td>5.0</td>\n",
       "      <td>5.0</td>\n",
       "      <td>6.0</td>\n",
       "      <td>8.0</td>\n",
       "      <td>8.0</td>\n",
       "      <td>8.0</td>\n",
       "      <td>7.0</td>\n",
       "    </tr>\n",
       "    <tr>\n",
       "      <th>1</th>\n",
       "      <td>1</td>\n",
       "      <td>0</td>\n",
       "      <td>12.0</td>\n",
       "      <td>0</td>\n",
       "      <td>0.54</td>\n",
       "      <td>0</td>\n",
       "      <td>21.0</td>\n",
       "      <td>1.0</td>\n",
       "      <td>4.0</td>\n",
       "      <td>2.0</td>\n",
       "      <td>...</td>\n",
       "      <td>20.0</td>\n",
       "      <td>15.0</td>\n",
       "      <td>20.0</td>\n",
       "      <td>5.0</td>\n",
       "      <td>5.0</td>\n",
       "      <td>6.0</td>\n",
       "      <td>8.0</td>\n",
       "      <td>8.0</td>\n",
       "      <td>8.0</td>\n",
       "      <td>7.0</td>\n",
       "    </tr>\n",
       "    <tr>\n",
       "      <th>2</th>\n",
       "      <td>1</td>\n",
       "      <td>0</td>\n",
       "      <td>13.0</td>\n",
       "      <td>1</td>\n",
       "      <td>0.16</td>\n",
       "      <td>1</td>\n",
       "      <td>21.0</td>\n",
       "      <td>1.0</td>\n",
       "      <td>4.0</td>\n",
       "      <td>2.0</td>\n",
       "      <td>...</td>\n",
       "      <td>20.0</td>\n",
       "      <td>15.0</td>\n",
       "      <td>20.0</td>\n",
       "      <td>5.0</td>\n",
       "      <td>5.0</td>\n",
       "      <td>6.0</td>\n",
       "      <td>8.0</td>\n",
       "      <td>8.0</td>\n",
       "      <td>8.0</td>\n",
       "      <td>7.0</td>\n",
       "    </tr>\n",
       "    <tr>\n",
       "      <th>3</th>\n",
       "      <td>1</td>\n",
       "      <td>0</td>\n",
       "      <td>14.0</td>\n",
       "      <td>1</td>\n",
       "      <td>0.61</td>\n",
       "      <td>0</td>\n",
       "      <td>21.0</td>\n",
       "      <td>1.0</td>\n",
       "      <td>4.0</td>\n",
       "      <td>2.0</td>\n",
       "      <td>...</td>\n",
       "      <td>20.0</td>\n",
       "      <td>15.0</td>\n",
       "      <td>20.0</td>\n",
       "      <td>5.0</td>\n",
       "      <td>5.0</td>\n",
       "      <td>6.0</td>\n",
       "      <td>8.0</td>\n",
       "      <td>8.0</td>\n",
       "      <td>8.0</td>\n",
       "      <td>7.0</td>\n",
       "    </tr>\n",
       "    <tr>\n",
       "      <th>4</th>\n",
       "      <td>1</td>\n",
       "      <td>0</td>\n",
       "      <td>15.0</td>\n",
       "      <td>1</td>\n",
       "      <td>0.21</td>\n",
       "      <td>0</td>\n",
       "      <td>21.0</td>\n",
       "      <td>1.0</td>\n",
       "      <td>4.0</td>\n",
       "      <td>2.0</td>\n",
       "      <td>...</td>\n",
       "      <td>20.0</td>\n",
       "      <td>15.0</td>\n",
       "      <td>20.0</td>\n",
       "      <td>5.0</td>\n",
       "      <td>5.0</td>\n",
       "      <td>6.0</td>\n",
       "      <td>8.0</td>\n",
       "      <td>8.0</td>\n",
       "      <td>8.0</td>\n",
       "      <td>7.0</td>\n",
       "    </tr>\n",
       "  </tbody>\n",
       "</table>\n",
       "<p>5 rows × 33 columns</p>\n",
       "</div>"
      ],
      "text/plain": [
       "   iid  gender   pid  match  int_corr  samerace   age  field_cd  race  \\\n",
       "0    1       0  11.0      0      0.14         0  21.0       1.0   4.0   \n",
       "1    1       0  12.0      0      0.54         0  21.0       1.0   4.0   \n",
       "2    1       0  13.0      1      0.16         1  21.0       1.0   4.0   \n",
       "3    1       0  14.0      1      0.61         0  21.0       1.0   4.0   \n",
       "4    1       0  15.0      1      0.21         0  21.0       1.0   4.0   \n",
       "\n",
       "   imprace  ...  sinc2_1  intel2_1  fun2_1  amb2_1  shar2_1  attr3_1  sinc3_1  \\\n",
       "0      2.0  ...     20.0      15.0    20.0     5.0      5.0      6.0      8.0   \n",
       "1      2.0  ...     20.0      15.0    20.0     5.0      5.0      6.0      8.0   \n",
       "2      2.0  ...     20.0      15.0    20.0     5.0      5.0      6.0      8.0   \n",
       "3      2.0  ...     20.0      15.0    20.0     5.0      5.0      6.0      8.0   \n",
       "4      2.0  ...     20.0      15.0    20.0     5.0      5.0      6.0      8.0   \n",
       "\n",
       "   fun3_1  intel3_1  amb3_1  \n",
       "0     8.0       8.0     7.0  \n",
       "1     8.0       8.0     7.0  \n",
       "2     8.0       8.0     7.0  \n",
       "3     8.0       8.0     7.0  \n",
       "4     8.0       8.0     7.0  \n",
       "\n",
       "[5 rows x 33 columns]"
      ]
     },
     "execution_count": 15,
     "metadata": {},
     "output_type": "execute_result"
    }
   ],
   "source": [
    "data = preprocess_spd_data(pd.read_csv('/kaggle/input/speed-dating-experiment/Speed Dating Data.csv', encoding='ISO-8859-1'))\n",
    "data.head()"
   ]
  },
  {
   "cell_type": "code",
   "execution_count": 16,
   "id": "b87a322e",
   "metadata": {
    "execution": {
     "iopub.execute_input": "2023-01-31T16:35:55.921320Z",
     "iopub.status.busy": "2023-01-31T16:35:55.920526Z",
     "iopub.status.idle": "2023-01-31T16:35:55.931445Z",
     "shell.execute_reply": "2023-01-31T16:35:55.929407Z"
    },
    "papermill": {
     "duration": 0.030809,
     "end_time": "2023-01-31T16:35:55.934552",
     "exception": false,
     "start_time": "2023-01-31T16:35:55.903743",
     "status": "completed"
    },
    "tags": []
   },
   "outputs": [
    {
     "data": {
      "text/plain": [
       "(array([0, 1]), array([6775, 1329]))"
      ]
     },
     "execution_count": 16,
     "metadata": {},
     "output_type": "execute_result"
    }
   ],
   "source": [
    "# Что с балансом?\n",
    "np.unique(data.match, return_counts=True)"
   ]
  },
  {
   "cell_type": "markdown",
   "id": "c85c107e",
   "metadata": {
    "papermill": {
     "duration": 0.015481,
     "end_time": "2023-01-31T16:35:55.965194",
     "exception": false,
     "start_time": "2023-01-31T16:35:55.949713",
     "status": "completed"
    },
    "tags": []
   },
   "source": [
    "Так как классы несбалансированы, надо применять методы типа oversampling, undersampling и новый SMOTE - Synthetic Minority Oversampling Technique\n",
    "Так как у нас тут русское поле экспериментов, а я о SMOTE слышу впервые, я выбрал его"
   ]
  },
  {
   "cell_type": "code",
   "execution_count": 17,
   "id": "34104fa5",
   "metadata": {
    "execution": {
     "iopub.execute_input": "2023-01-31T16:35:55.998307Z",
     "iopub.status.busy": "2023-01-31T16:35:55.997803Z",
     "iopub.status.idle": "2023-01-31T16:36:13.540062Z",
     "shell.execute_reply": "2023-01-31T16:36:13.537959Z"
    },
    "papermill": {
     "duration": 17.562675,
     "end_time": "2023-01-31T16:36:13.543507",
     "exception": false,
     "start_time": "2023-01-31T16:35:55.980832",
     "status": "completed"
    },
    "tags": []
   },
   "outputs": [
    {
     "name": "stdout",
     "output_type": "stream",
     "text": [
      "Requirement already satisfied: imbalanced-learn in /opt/conda/lib/python3.7/site-packages (0.10.1)\r\n",
      "Requirement already satisfied: numpy>=1.17.3 in /opt/conda/lib/python3.7/site-packages (from imbalanced-learn) (1.21.6)\r\n",
      "Collecting joblib>=1.1.1\r\n",
      "  Downloading joblib-1.2.0-py3-none-any.whl (297 kB)\r\n",
      "\u001b[2K     \u001b[90m━━━━━━━━━━━━━━━━━━━━━━━━━━━━━━━━━━━━━\u001b[0m \u001b[32m298.0/298.0 kB\u001b[0m \u001b[31m533.0 kB/s\u001b[0m eta \u001b[36m0:00:00\u001b[0m\r\n",
      "\u001b[?25hRequirement already satisfied: threadpoolctl>=2.0.0 in /opt/conda/lib/python3.7/site-packages (from imbalanced-learn) (3.1.0)\r\n",
      "Requirement already satisfied: scikit-learn>=1.0.2 in /opt/conda/lib/python3.7/site-packages (from imbalanced-learn) (1.0.2)\r\n",
      "Requirement already satisfied: scipy>=1.3.2 in /opt/conda/lib/python3.7/site-packages (from imbalanced-learn) (1.7.3)\r\n",
      "Installing collected packages: joblib\r\n",
      "  Attempting uninstall: joblib\r\n",
      "    Found existing installation: joblib 1.0.1\r\n",
      "    Uninstalling joblib-1.0.1:\r\n",
      "      Successfully uninstalled joblib-1.0.1\r\n",
      "\u001b[31mERROR: pip's dependency resolver does not currently take into account all the packages that are installed. This behaviour is the source of the following dependency conflicts.\r\n",
      "pandas-profiling 3.1.0 requires joblib~=1.0.1, but you have joblib 1.2.0 which is incompatible.\r\n",
      "pandas-profiling 3.1.0 requires markupsafe~=2.0.1, but you have markupsafe 2.1.2 which is incompatible.\u001b[0m\u001b[31m\r\n",
      "\u001b[0mSuccessfully installed joblib-1.2.0\r\n",
      "\u001b[33mWARNING: Running pip as the 'root' user can result in broken permissions and conflicting behaviour with the system package manager. It is recommended to use a virtual environment instead: https://pip.pypa.io/warnings/venv\u001b[0m\u001b[33m\r\n",
      "\u001b[0m"
     ]
    }
   ],
   "source": [
    "!pip install -U imbalanced-learn"
   ]
  },
  {
   "cell_type": "code",
   "execution_count": 18,
   "id": "47229070",
   "metadata": {
    "execution": {
     "iopub.execute_input": "2023-01-31T16:36:13.581252Z",
     "iopub.status.busy": "2023-01-31T16:36:13.580686Z",
     "iopub.status.idle": "2023-01-31T16:36:13.596919Z",
     "shell.execute_reply": "2023-01-31T16:36:13.595500Z"
    },
    "papermill": {
     "duration": 0.039882,
     "end_time": "2023-01-31T16:36:13.600250",
     "exception": false,
     "start_time": "2023-01-31T16:36:13.560368",
     "status": "completed"
    },
    "tags": []
   },
   "outputs": [
    {
     "data": {
      "text/plain": [
       "((8104, 32), (8104,))"
      ]
     },
     "execution_count": 18,
     "metadata": {},
     "output_type": "execute_result"
    }
   ],
   "source": [
    "y = data['match'].to_numpy()\n",
    "X = data.drop('match', axis = 1).to_numpy()\n",
    "\n",
    "X.shape, y.shape"
   ]
  },
  {
   "cell_type": "code",
   "execution_count": 19,
   "id": "41a71e01",
   "metadata": {
    "execution": {
     "iopub.execute_input": "2023-01-31T16:36:13.638120Z",
     "iopub.status.busy": "2023-01-31T16:36:13.637348Z",
     "iopub.status.idle": "2023-01-31T16:36:13.645837Z",
     "shell.execute_reply": "2023-01-31T16:36:13.644436Z"
    },
    "papermill": {
     "duration": 0.030786,
     "end_time": "2023-01-31T16:36:13.648659",
     "exception": false,
     "start_time": "2023-01-31T16:36:13.617873",
     "status": "completed"
    },
    "tags": []
   },
   "outputs": [
    {
     "data": {
      "text/plain": [
       "'\\nfrom imblearn.under_sampling import RandomUnderSampler\\n\\nrus = RandomUnderSampler(random_state=0)\\nX_reduced, y_reduced = rus.fit_resample(X, y)\\n\\nprint(X_reduced.shape, y_reduced.shape)\\n\\nnp.unique(y_reduced, return_counts=True)\\n'"
      ]
     },
     "execution_count": 19,
     "metadata": {},
     "output_type": "execute_result"
    }
   ],
   "source": [
    "# Undersampling - не подходит, так как идет недообучение\n",
    "'''\n",
    "from imblearn.under_sampling import RandomUnderSampler\n",
    "\n",
    "rus = RandomUnderSampler(random_state=0)\n",
    "X_reduced, y_reduced = rus.fit_resample(X, y)\n",
    "\n",
    "print(X_reduced.shape, y_reduced.shape)\n",
    "\n",
    "np.unique(y_reduced, return_counts=True)\n",
    "'''"
   ]
  },
  {
   "cell_type": "code",
   "execution_count": 20,
   "id": "270d250f",
   "metadata": {
    "execution": {
     "iopub.execute_input": "2023-01-31T16:36:13.687222Z",
     "iopub.status.busy": "2023-01-31T16:36:13.686422Z",
     "iopub.status.idle": "2023-01-31T16:36:13.997662Z",
     "shell.execute_reply": "2023-01-31T16:36:13.995583Z"
    },
    "papermill": {
     "duration": 0.335531,
     "end_time": "2023-01-31T16:36:14.001594",
     "exception": false,
     "start_time": "2023-01-31T16:36:13.666063",
     "status": "completed"
    },
    "tags": []
   },
   "outputs": [
    {
     "name": "stdout",
     "output_type": "stream",
     "text": [
      "(13550, 32) (13550,)\n"
     ]
    },
    {
     "data": {
      "text/plain": [
       "(array([0, 1]), array([6775, 6775]))"
      ]
     },
     "execution_count": 20,
     "metadata": {},
     "output_type": "execute_result"
    }
   ],
   "source": [
    "# SMOTE - наш вариант\n",
    "from imblearn.over_sampling import SMOTE\n",
    "\n",
    "\n",
    "sm = SMOTE(random_state=42)\n",
    "X_resampled, y_resampled = sm.fit_resample(X, y)\n",
    "\n",
    "print(X_resampled.shape, y_resampled.shape)\n",
    "\n",
    "# Теперь баланс\n",
    "np.unique(y_resampled, return_counts=True)"
   ]
  },
  {
   "cell_type": "code",
   "execution_count": 21,
   "id": "600e2b4d",
   "metadata": {
    "execution": {
     "iopub.execute_input": "2023-01-31T16:36:14.040732Z",
     "iopub.status.busy": "2023-01-31T16:36:14.040287Z",
     "iopub.status.idle": "2023-01-31T16:36:14.056451Z",
     "shell.execute_reply": "2023-01-31T16:36:14.055016Z"
    },
    "papermill": {
     "duration": 0.039894,
     "end_time": "2023-01-31T16:36:14.059518",
     "exception": false,
     "start_time": "2023-01-31T16:36:14.019624",
     "status": "completed"
    },
    "tags": []
   },
   "outputs": [],
   "source": [
    "test_size = 0.4\n",
    "X_processed, y_processed = X_resampled, y_resampled\n",
    "X_train, X_test, y_train, y_test = train_test_split(X_processed, y_processed, test_size=test_size, stratify=y_processed)"
   ]
  },
  {
   "cell_type": "code",
   "execution_count": 22,
   "id": "a6f53c8c",
   "metadata": {
    "execution": {
     "iopub.execute_input": "2023-01-31T16:36:14.098500Z",
     "iopub.status.busy": "2023-01-31T16:36:14.097970Z",
     "iopub.status.idle": "2023-01-31T16:36:14.107592Z",
     "shell.execute_reply": "2023-01-31T16:36:14.105465Z"
    },
    "papermill": {
     "duration": 0.032785,
     "end_time": "2023-01-31T16:36:14.110686",
     "exception": false,
     "start_time": "2023-01-31T16:36:14.077901",
     "status": "completed"
    },
    "tags": []
   },
   "outputs": [
    {
     "data": {
      "text/plain": [
       "((8130, 32), (5420, 32))"
      ]
     },
     "execution_count": 22,
     "metadata": {},
     "output_type": "execute_result"
    }
   ],
   "source": [
    "X_train.shape, X_test.shape"
   ]
  },
  {
   "cell_type": "code",
   "execution_count": 23,
   "id": "23d1f10c",
   "metadata": {
    "execution": {
     "iopub.execute_input": "2023-01-31T16:36:14.151282Z",
     "iopub.status.busy": "2023-01-31T16:36:14.150753Z",
     "iopub.status.idle": "2023-01-31T16:37:56.725681Z",
     "shell.execute_reply": "2023-01-31T16:37:56.723955Z"
    },
    "papermill": {
     "duration": 102.599479,
     "end_time": "2023-01-31T16:37:56.729076",
     "exception": false,
     "start_time": "2023-01-31T16:36:14.129597",
     "status": "completed"
    },
    "tags": []
   },
   "outputs": [],
   "source": [
    "my_clf = MyDecisionTreeClassifier(min_samples_split=2)\n",
    "my_clf.fit(X_train, y_train)"
   ]
  },
  {
   "cell_type": "code",
   "execution_count": 24,
   "id": "c8908d1f",
   "metadata": {
    "execution": {
     "iopub.execute_input": "2023-01-31T16:37:56.771394Z",
     "iopub.status.busy": "2023-01-31T16:37:56.769708Z",
     "iopub.status.idle": "2023-01-31T16:37:56.799209Z",
     "shell.execute_reply": "2023-01-31T16:37:56.798139Z"
    },
    "papermill": {
     "duration": 0.053398,
     "end_time": "2023-01-31T16:37:56.801708",
     "exception": false,
     "start_time": "2023-01-31T16:37:56.748310",
     "status": "completed"
    },
    "tags": []
   },
   "outputs": [
    {
     "data": {
      "text/plain": [
       "0.694280442804428"
      ]
     },
     "execution_count": 24,
     "metadata": {},
     "output_type": "execute_result"
    }
   ],
   "source": [
    "y_pred=my_clf.predict(X_test)\n",
    "accuracy_score(y_true=y_test, y_pred=y_pred)"
   ]
  },
  {
   "cell_type": "markdown",
   "id": "956ad05f",
   "metadata": {
    "papermill": {
     "duration": 0.017139,
     "end_time": "2023-01-31T16:37:56.836447",
     "exception": false,
     "start_time": "2023-01-31T16:37:56.819308",
     "status": "completed"
    },
    "tags": []
   },
   "source": [
    "Разбейте датасет на трейн и валидацию. Подберите на валидации оптимальный критерий  информативности. \n",
    "Постройте графики зависимости точности на валидации и трейне от глубины дерева, от минимального числа объектов для сплита. (Т.е должно быть 2 графика, на каждой должны быть 2 кривые - для трейна и валидации)\n",
    "Какой максимальной точности удалось достигнуть?"
   ]
  },
  {
   "cell_type": "markdown",
   "id": "9f225d12",
   "metadata": {
    "papermill": {
     "duration": 0.016687,
     "end_time": "2023-01-31T16:37:56.870497",
     "exception": false,
     "start_time": "2023-01-31T16:37:56.853810",
     "status": "completed"
    },
    "tags": []
   },
   "source": [
    "Известным фактом является то, что деревья решений сильно переобучаются при увеличении глубины и просто запоминают трейн. \n",
    "Замечаете ли вы такой эффект судя по графикам? Что при этом происходит с качеством на валидации? "
   ]
  },
  {
   "cell_type": "code",
   "execution_count": 25,
   "id": "940b8b59",
   "metadata": {
    "execution": {
     "iopub.execute_input": "2023-01-31T16:37:56.907545Z",
     "iopub.status.busy": "2023-01-31T16:37:56.906705Z",
     "iopub.status.idle": "2023-01-31T16:37:56.917609Z",
     "shell.execute_reply": "2023-01-31T16:37:56.916523Z"
    },
    "papermill": {
     "duration": 0.032893,
     "end_time": "2023-01-31T16:37:56.920501",
     "exception": false,
     "start_time": "2023-01-31T16:37:56.887608",
     "status": "completed"
    },
    "tags": []
   },
   "outputs": [
    {
     "data": {
      "text/plain": [
       "0.6942804428044281"
      ]
     },
     "execution_count": 25,
     "metadata": {},
     "output_type": "execute_result"
    }
   ],
   "source": [
    "roc_auc_score(y_true=y_test, y_score=y_pred)"
   ]
  },
  {
   "cell_type": "code",
   "execution_count": 26,
   "id": "b2c9e35c",
   "metadata": {
    "execution": {
     "iopub.execute_input": "2023-01-31T16:37:56.959935Z",
     "iopub.status.busy": "2023-01-31T16:37:56.958944Z",
     "iopub.status.idle": "2023-01-31T16:39:26.523680Z",
     "shell.execute_reply": "2023-01-31T16:39:26.522426Z"
    },
    "papermill": {
     "duration": 89.587513,
     "end_time": "2023-01-31T16:39:26.526817",
     "exception": false,
     "start_time": "2023-01-31T16:37:56.939304",
     "status": "completed"
    },
    "tags": []
   },
   "outputs": [],
   "source": [
    "clf_2 = MyDecisionTreeClassifier(min_samples_split=2, criterion='entropy')\n",
    "clf_2.fit(X_train, y_train)"
   ]
  },
  {
   "cell_type": "code",
   "execution_count": 27,
   "id": "65bc5096",
   "metadata": {
    "execution": {
     "iopub.execute_input": "2023-01-31T16:39:26.563178Z",
     "iopub.status.busy": "2023-01-31T16:39:26.562647Z",
     "iopub.status.idle": "2023-01-31T16:40:54.491362Z",
     "shell.execute_reply": "2023-01-31T16:40:54.489866Z"
    },
    "papermill": {
     "duration": 87.950462,
     "end_time": "2023-01-31T16:40:54.494740",
     "exception": false,
     "start_time": "2023-01-31T16:39:26.544278",
     "status": "completed"
    },
    "tags": []
   },
   "outputs": [],
   "source": [
    "clf_3 = MyDecisionTreeClassifier(min_samples_split=2, criterion='misclassification_error')\n",
    "clf_3.fit(X_train, y_train)"
   ]
  },
  {
   "cell_type": "code",
   "execution_count": 28,
   "id": "3666872d",
   "metadata": {
    "execution": {
     "iopub.execute_input": "2023-01-31T16:40:54.534749Z",
     "iopub.status.busy": "2023-01-31T16:40:54.534191Z",
     "iopub.status.idle": "2023-01-31T16:40:54.570615Z",
     "shell.execute_reply": "2023-01-31T16:40:54.569068Z"
    },
    "papermill": {
     "duration": 0.060829,
     "end_time": "2023-01-31T16:40:54.573537",
     "exception": false,
     "start_time": "2023-01-31T16:40:54.512708",
     "status": "completed"
    },
    "tags": []
   },
   "outputs": [
    {
     "data": {
      "text/plain": [
       "(0.6874538745387454, 0.6874538745387454)"
      ]
     },
     "execution_count": 28,
     "metadata": {},
     "output_type": "execute_result"
    }
   ],
   "source": [
    "y_pred_2 = clf_2.predict(X_test)\n",
    "accuracy_score(y_true=y_test, y_pred=y_pred_2), roc_auc_score(y_true=y_test, y_score=y_pred_2)"
   ]
  },
  {
   "cell_type": "code",
   "execution_count": 29,
   "id": "146829da",
   "metadata": {
    "execution": {
     "iopub.execute_input": "2023-01-31T16:40:54.613252Z",
     "iopub.status.busy": "2023-01-31T16:40:54.612441Z",
     "iopub.status.idle": "2023-01-31T16:40:54.643001Z",
     "shell.execute_reply": "2023-01-31T16:40:54.641769Z"
    },
    "papermill": {
     "duration": 0.052855,
     "end_time": "2023-01-31T16:40:54.645639",
     "exception": false,
     "start_time": "2023-01-31T16:40:54.592784",
     "status": "completed"
    },
    "tags": []
   },
   "outputs": [
    {
     "data": {
      "text/plain": [
       "(0.7033210332103321, 0.7033210332103321)"
      ]
     },
     "execution_count": 29,
     "metadata": {},
     "output_type": "execute_result"
    }
   ],
   "source": [
    "y_pred_3 = clf_3.predict(X_test)\n",
    "accuracy_score(y_true=y_test, y_pred=y_pred_3), roc_auc_score(y_true=y_test, y_score=y_pred_3)"
   ]
  },
  {
   "cell_type": "markdown",
   "id": "a976a9e6",
   "metadata": {
    "papermill": {
     "duration": 0.01838,
     "end_time": "2023-01-31T16:40:54.681586",
     "exception": false,
     "start_time": "2023-01-31T16:40:54.663206",
     "status": "completed"
    },
    "tags": []
   },
   "source": [
    "Джини дал лучший результат"
   ]
  },
  {
   "cell_type": "markdown",
   "id": "1e07f6dc",
   "metadata": {
    "papermill": {
     "duration": 0.017946,
     "end_time": "2023-01-31T16:40:54.718131",
     "exception": false,
     "start_time": "2023-01-31T16:40:54.700185",
     "status": "completed"
    },
    "tags": []
   },
   "source": [
    "## Зависимости от глубины"
   ]
  },
  {
   "cell_type": "code",
   "execution_count": 30,
   "id": "0f2204fc",
   "metadata": {
    "execution": {
     "iopub.execute_input": "2023-01-31T16:40:54.756480Z",
     "iopub.status.busy": "2023-01-31T16:40:54.755560Z",
     "iopub.status.idle": "2023-01-31T16:47:55.082251Z",
     "shell.execute_reply": "2023-01-31T16:47:55.080958Z"
    },
    "papermill": {
     "duration": 420.368701,
     "end_time": "2023-01-31T16:47:55.104279",
     "exception": false,
     "start_time": "2023-01-31T16:40:54.735578",
     "status": "completed"
    },
    "tags": []
   },
   "outputs": [
    {
     "name": "stderr",
     "output_type": "stream",
     "text": [
      "100%|██████████| 6/6 [07:00<00:00, 70.05s/it]\n"
     ]
    }
   ],
   "source": [
    "train_accuracy = []\n",
    "test_accuracy = []\n",
    "\n",
    "train_roc = []\n",
    "test_roc = []\n",
    "\n",
    "depths = [1, 2, 3, 4, 5, 7]\n",
    "\n",
    "for depth in tqdm(depths):\n",
    "    my_clf = MyDecisionTreeClassifier(max_depth=depth, criterion='gini')\n",
    "    \n",
    "    y_pred_train = my_clf.fit_predict(X_train, y_train, X_train)\n",
    "    y_pred_test = my_clf.predict(X_test)\n",
    "    \n",
    "    train_accuracy.append(accuracy_score(y_true=y_train, y_pred=y_pred_train))\n",
    "    test_accuracy.append(accuracy_score(y_true=y_test, y_pred=y_pred_test))\n",
    "    \n",
    "    train_roc.append(roc_auc_score(y_true=y_train, y_score=y_pred_train))\n",
    "    test_roc.append(roc_auc_score(y_true=y_test, y_score=y_pred_test))"
   ]
  },
  {
   "cell_type": "code",
   "execution_count": 31,
   "id": "c87ab09a",
   "metadata": {
    "execution": {
     "iopub.execute_input": "2023-01-31T16:47:55.144716Z",
     "iopub.status.busy": "2023-01-31T16:47:55.144202Z",
     "iopub.status.idle": "2023-01-31T16:47:55.437306Z",
     "shell.execute_reply": "2023-01-31T16:47:55.436017Z"
    },
    "papermill": {
     "duration": 0.31794,
     "end_time": "2023-01-31T16:47:55.441157",
     "exception": false,
     "start_time": "2023-01-31T16:47:55.123217",
     "status": "completed"
    },
    "tags": []
   },
   "outputs": [
    {
     "data": {
      "image/png": "[encoded data removed]",
      "text/plain": [
       "<Figure size 432x288 with 1 Axes>"
      ]
     },
     "metadata": {
      "needs_background": "light"
     },
     "output_type": "display_data"
    }
   ],
   "source": [
    "plt.plot(depths, train_accuracy, label='train')\n",
    "plt.plot(depths, test_accuracy, label='test')\n",
    "\n",
    "plt.xlabel('Depth')\n",
    "plt.ylabel('Accuracy')\n",
    "\n",
    "plt.legend()\n",
    "plt.show()"
   ]
  },
  {
   "cell_type": "code",
   "execution_count": 32,
   "id": "05c5a7c2",
   "metadata": {
    "execution": {
     "iopub.execute_input": "2023-01-31T16:47:55.482777Z",
     "iopub.status.busy": "2023-01-31T16:47:55.481953Z",
     "iopub.status.idle": "2023-01-31T16:47:55.724492Z",
     "shell.execute_reply": "2023-01-31T16:47:55.722944Z"
    },
    "papermill": {
     "duration": 0.267942,
     "end_time": "2023-01-31T16:47:55.727851",
     "exception": false,
     "start_time": "2023-01-31T16:47:55.459909",
     "status": "completed"
    },
    "tags": []
   },
   "outputs": [
    {
     "data": {
      "image/png": "[encoded data removed]",
      "text/plain": [
       "<Figure size 432x288 with 1 Axes>"
      ]
     },
     "metadata": {
      "needs_background": "light"
     },
     "output_type": "display_data"
    }
   ],
   "source": [
    "plt.plot(depths, train_roc, label='train')\n",
    "plt.plot(depths, test_roc, label='test')\n",
    "\n",
    "plt.xlabel('Depth')\n",
    "plt.ylabel('ROC-AUC')\n",
    "\n",
    "plt.legend()\n",
    "plt.show()"
   ]
  },
  {
   "cell_type": "markdown",
   "id": "9b5f8580",
   "metadata": {
    "papermill": {
     "duration": 0.018812,
     "end_time": "2023-01-31T16:47:55.805460",
     "exception": false,
     "start_time": "2023-01-31T16:47:55.786648",
     "status": "completed"
    },
    "tags": []
   },
   "source": [
    "## Зависимости от минимального сплита"
   ]
  },
  {
   "cell_type": "code",
   "execution_count": 33,
   "id": "6e74b29c",
   "metadata": {
    "execution": {
     "iopub.execute_input": "2023-01-31T16:47:55.845509Z",
     "iopub.status.busy": "2023-01-31T16:47:55.845015Z",
     "iopub.status.idle": "2023-01-31T16:58:08.573809Z",
     "shell.execute_reply": "2023-01-31T16:58:08.571781Z"
    },
    "papermill": {
     "duration": 612.773495,
     "end_time": "2023-01-31T16:58:08.597996",
     "exception": false,
     "start_time": "2023-01-31T16:47:55.824501",
     "status": "completed"
    },
    "tags": []
   },
   "outputs": [
    {
     "name": "stderr",
     "output_type": "stream",
     "text": [
      "100%|██████████| 4/4 [10:12<00:00, 153.18s/it]\n"
     ]
    }
   ],
   "source": [
    "train_accuracy = []\n",
    "test_accuracy = []\n",
    "\n",
    "train_roc = []\n",
    "test_roc = []\n",
    "\n",
    "min_splits = [2 ** i for i in range(1, 5)]\n",
    "\n",
    "for min_split in tqdm(min_splits):\n",
    "    my_clf = MyDecisionTreeClassifier(max_depth=15, min_samples_split=min_split, criterion='gini')\n",
    "    \n",
    "    y_pred_train = my_clf.fit_predict(X_train, y_train, X_train)\n",
    "    y_pred_test = my_clf.predict(X_test)\n",
    "    \n",
    "    train_accuracy.append(accuracy_score(y_true=y_train, y_pred=y_pred_train))\n",
    "    test_accuracy.append(accuracy_score(y_true=y_test, y_pred=y_pred_test))\n",
    "    \n",
    "    train_roc.append(roc_auc_score(y_true=y_train, y_score=y_pred_train))\n",
    "    test_roc.append(roc_auc_score(y_true=y_test, y_score=y_pred_test))"
   ]
  },
  {
   "cell_type": "code",
   "execution_count": 34,
   "id": "b49f85e7",
   "metadata": {
    "execution": {
     "iopub.execute_input": "2023-01-31T16:58:08.641890Z",
     "iopub.status.busy": "2023-01-31T16:58:08.640915Z",
     "iopub.status.idle": "2023-01-31T16:58:08.905337Z",
     "shell.execute_reply": "2023-01-31T16:58:08.903559Z"
    },
    "papermill": {
     "duration": 0.290255,
     "end_time": "2023-01-31T16:58:08.908473",
     "exception": false,
     "start_time": "2023-01-31T16:58:08.618218",
     "status": "completed"
    },
    "tags": []
   },
   "outputs": [
    {
     "data": {
      "image/png": "[encoded data removed]",
      "text/plain": [
       "<Figure size 432x288 with 1 Axes>"
      ]
     },
     "metadata": {
      "needs_background": "light"
     },
     "output_type": "display_data"
    }
   ],
   "source": [
    "plt.plot(min_splits, train_accuracy, label='train')\n",
    "plt.plot(min_splits, test_accuracy, label='test')\n",
    "\n",
    "plt.xlabel('min_split')\n",
    "plt.ylabel('Accuracy')\n",
    "\n",
    "plt.legend()\n",
    "plt.show()"
   ]
  },
  {
   "cell_type": "code",
   "execution_count": 35,
   "id": "a94eb4b4",
   "metadata": {
    "execution": {
     "iopub.execute_input": "2023-01-31T16:58:08.954652Z",
     "iopub.status.busy": "2023-01-31T16:58:08.954167Z",
     "iopub.status.idle": "2023-01-31T16:58:09.226697Z",
     "shell.execute_reply": "2023-01-31T16:58:09.225058Z"
    },
    "papermill": {
     "duration": 0.30079,
     "end_time": "2023-01-31T16:58:09.230052",
     "exception": false,
     "start_time": "2023-01-31T16:58:08.929262",
     "status": "completed"
    },
    "tags": []
   },
   "outputs": [
    {
     "data": {
      "image/png": "[encoded data removed]",
      "text/plain": [
       "<Figure size 432x288 with 1 Axes>"
      ]
     },
     "metadata": {
      "needs_background": "light"
     },
     "output_type": "display_data"
    }
   ],
   "source": [
    "plt.plot(min_splits, train_roc, label='train')\n",
    "plt.plot(min_splits, test_roc, label='test')\n",
    "\n",
    "plt.xlabel('min_split')\n",
    "plt.ylabel('ROC-AUC')\n",
    "\n",
    "plt.legend()\n",
    "plt.show()"
   ]
  },
  {
   "cell_type": "markdown",
   "id": "c054f40a",
   "metadata": {
    "papermill": {
     "duration": 0.022247,
     "end_time": "2023-01-31T16:58:09.274758",
     "exception": false,
     "start_time": "2023-01-31T16:58:09.252511",
     "status": "completed"
    },
    "tags": []
   },
   "source": [
    "Деревья действительно склонны к переобучению, это видно по разнице кривой теста и треина. Сплит лучше держать около 2ки"
   ]
  },
  {
   "cell_type": "markdown",
   "id": "57af5422",
   "metadata": {
    "papermill": {
     "duration": 0.024382,
     "end_time": "2023-01-31T16:58:09.322090",
     "exception": false,
     "start_time": "2023-01-31T16:58:09.297708",
     "status": "completed"
    },
    "tags": []
   },
   "source": [
    "## Находим самые важные признаки (2 балла)\n",
    "\n"
   ]
  },
  {
   "cell_type": "markdown",
   "id": "6939426b",
   "metadata": {
    "papermill": {
     "duration": 0.021848,
     "end_time": "2023-01-31T16:58:09.367940",
     "exception": false,
     "start_time": "2023-01-31T16:58:09.346092",
     "status": "completed"
    },
    "tags": []
   },
   "source": [
    "По построенному дереву  легко понять, какие признаки лучше всего помогли решить задачу. Часто это бывает нужно  не только  для сокращения размерности в данных, но и для лучшего понимания прикладной задачи. Например, Вы хотите понять, какие признаки стоит еще конструировать -- для этого нужно понимать, какие из текущих лучше всего работают в дереве. "
   ]
  },
  {
   "cell_type": "markdown",
   "id": "ab0f6b75",
   "metadata": {
    "papermill": {
     "duration": 0.020752,
     "end_time": "2023-01-31T16:58:09.411771",
     "exception": false,
     "start_time": "2023-01-31T16:58:09.391019",
     "status": "completed"
    },
    "tags": []
   },
   "source": [
    "Самый простой метод -- посчитать число сплитов, где использовался данные признак. Это не лучший вариант, так как по признаку который принимает всего 2 значения, но который почти точно разделяет выборку, число сплитов будет очень 1, но при этом признак сам очень хороший. \n",
    "В этом задании предлагается для каждого признака считать суммарный gain (в лекции обозначено как Q) при использовании этого признака в сплите. Тогда даже у очень хороших признаков с маленьким число сплитов это значение должно быть довольно высоким.  "
   ]
  },
  {
   "cell_type": "markdown",
   "id": "fc40de64",
   "metadata": {
    "papermill": {
     "duration": 0.024354,
     "end_time": "2023-01-31T16:58:09.458894",
     "exception": false,
     "start_time": "2023-01-31T16:58:09.434540",
     "status": "completed"
    },
    "tags": []
   },
   "source": [
    "Реализовать это довольно просто: создаете словарь номер фичи : суммарный гейн и добавляете в нужную фичу каждый раз, когда используете ее при построении дерева. "
   ]
  },
  {
   "cell_type": "markdown",
   "id": "f718b160",
   "metadata": {
    "papermill": {
     "duration": 0.023425,
     "end_time": "2023-01-31T16:58:09.504945",
     "exception": false,
     "start_time": "2023-01-31T16:58:09.481520",
     "status": "completed"
    },
    "tags": []
   },
   "source": [
    "Добавьте функционал, который определяет значения feature importance. Обучите дерево на датасете Speed Dating Data.\n",
    "Выведите 10 главных фичей по важности."
   ]
  },
  {
   "cell_type": "code",
   "execution_count": 36,
   "id": "c8553c69",
   "metadata": {
    "execution": {
     "iopub.execute_input": "2023-01-31T16:58:09.554896Z",
     "iopub.status.busy": "2023-01-31T16:58:09.554389Z",
     "iopub.status.idle": "2023-01-31T16:59:38.230793Z",
     "shell.execute_reply": "2023-01-31T16:59:38.229298Z"
    },
    "papermill": {
     "duration": 88.70517,
     "end_time": "2023-01-31T16:59:38.234114",
     "exception": false,
     "start_time": "2023-01-31T16:58:09.528944",
     "status": "completed"
    },
    "tags": []
   },
   "outputs": [],
   "source": [
    "final_clf = MyDecisionTreeClassifier(criterion='gini')\n",
    "final_clf.fit(X_train, y_train)"
   ]
  },
  {
   "cell_type": "code",
   "execution_count": 37,
   "id": "0c987f42",
   "metadata": {
    "execution": {
     "iopub.execute_input": "2023-01-31T16:59:38.279871Z",
     "iopub.status.busy": "2023-01-31T16:59:38.279339Z",
     "iopub.status.idle": "2023-01-31T16:59:38.292330Z",
     "shell.execute_reply": "2023-01-31T16:59:38.290952Z"
    },
    "papermill": {
     "duration": 0.038653,
     "end_time": "2023-01-31T16:59:38.295405",
     "exception": false,
     "start_time": "2023-01-31T16:59:38.256752",
     "status": "completed"
    },
    "tags": []
   },
   "outputs": [
    {
     "data": {
      "text/plain": [
       "Index(['iid', 'pid', 'int_corr', 'samerace', 'age', 'race', 'goal', 'date',\n",
       "       'exphappy', 'intel1_1'],\n",
       "      dtype='object')"
      ]
     },
     "execution_count": 37,
     "metadata": {},
     "output_type": "execute_result"
    }
   ],
   "source": [
    "data.drop('match', axis = 1).columns[sorted(final_clf.get_feature_importance())][:10]"
   ]
  },
  {
   "cell_type": "markdown",
   "id": "63f3694e",
   "metadata": {
    "papermill": {
     "duration": 0.022399,
     "end_time": "2023-01-31T16:59:38.339600",
     "exception": false,
     "start_time": "2023-01-31T16:59:38.317201",
     "status": "completed"
    },
    "tags": []
   },
   "source": [
    "## Фидбек (бесценно)"
   ]
  },
  {
   "cell_type": "markdown",
   "id": "49a967af",
   "metadata": {
    "papermill": {
     "duration": 0.020197,
     "end_time": "2023-01-31T16:59:38.382472",
     "exception": false,
     "start_time": "2023-01-31T16:59:38.362275",
     "status": "completed"
    },
    "tags": []
   },
   "source": [
    "* Какие аспекты обучения деревьев решений Вам показались непонятными? Какое место стоит дополнительно объяснить?\n",
    "То как можно ускорить дерево - неясно. Есть материал в книге ШАДа, но тамошняя идея с динамическим программированием не была понята полностью: пробовал подсчитывать частоту классов заранее, была еще идея подбирать пороги через квантили, но как-то не пошло, хотелось бы узнать как можно ускорить алгоритм"
   ]
  },
  {
   "cell_type": "markdown",
   "id": "12ab7da9",
   "metadata": {
    "papermill": {
     "duration": 0.020908,
     "end_time": "2023-01-31T16:59:38.424908",
     "exception": false,
     "start_time": "2023-01-31T16:59:38.404000",
     "status": "completed"
    },
    "tags": []
   },
   "source": [
    "### Ваш ответ здесь"
   ]
  },
  {
   "cell_type": "markdown",
   "id": "fbc647c8",
   "metadata": {
    "papermill": {
     "duration": 0.023395,
     "end_time": "2023-01-31T16:59:38.471836",
     "exception": false,
     "start_time": "2023-01-31T16:59:38.448441",
     "status": "completed"
    },
    "tags": []
   },
   "source": [
    "* Здесь Вы можете оставить отзыв о этой домашней работе или о всем курсе.\n",
    "\n",
    "Неиронично, но с деревьями я познакомился по-новому, не жалею, что руками в них покопался."
   ]
  },
  {
   "cell_type": "markdown",
   "id": "028ec1c0",
   "metadata": {
    "papermill": {
     "duration": 0.022781,
     "end_time": "2023-01-31T16:59:38.517422",
     "exception": false,
     "start_time": "2023-01-31T16:59:38.494641",
     "status": "completed"
    },
    "tags": []
   },
   "source": [
    "### ВАШ ОТЗЫВ ЗДЕСЬ\n",
    "\n"
   ]
  },
  {
   "cell_type": "code",
   "execution_count": null,
   "id": "1c704301",
   "metadata": {
    "collapsed": true,
    "jupyter": {
     "outputs_hidden": true
    },
    "papermill": {
     "duration": 0.021877,
     "end_time": "2023-01-31T16:59:38.560702",
     "exception": false,
     "start_time": "2023-01-31T16:59:38.538825",
     "status": "completed"
    },
    "tags": []
   },
   "outputs": [],
   "source": []
  },
  {
   "cell_type": "code",
   "execution_count": null,
   "id": "c7ff7d32",
   "metadata": {
    "collapsed": true,
    "jupyter": {
     "outputs_hidden": true
    },
    "papermill": {
     "duration": 0.021628,
     "end_time": "2023-01-31T16:59:38.604219",
     "exception": false,
     "start_time": "2023-01-31T16:59:38.582591",
     "status": "completed"
    },
    "tags": []
   },
   "outputs": [],
   "source": []
  }
 ],
 "metadata": {
  "kernelspec": {
   "display_name": "Python 3",
   "language": "python",
   "name": "python3"
  },
  "language_info": {
   "codemirror_mode": {
    "name": "ipython",
    "version": 3
   },
   "file_extension": ".py",
   "mimetype": "text/x-python",
   "name": "python",
   "nbconvert_exporter": "python",
   "pygments_lexer": "ipython3",
   "version": "3.8.8"
  },
  "papermill": {
   "default_parameters": {},
   "duration": 1442.341615,
   "end_time": "2023-01-31T16:59:41.673215",
   "environment_variables": {},
   "exception": null,
   "input_path": "__notebook__.ipynb",
   "output_path": "__notebook__.ipynb",
   "parameters": {},
   "start_time": "2023-01-31T16:35:39.331600",
   "version": "2.3.4"
  }
 },
 "nbformat": 4,
 "nbformat_minor": 5
}
